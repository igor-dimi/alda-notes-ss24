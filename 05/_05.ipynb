{
 "cells": [
  {
   "cell_type": "code",
   "execution_count": 1,
   "metadata": {},
   "outputs": [],
   "source": [
    "def insertion_sort(a) :\n",
    "    n = len(a)\n",
    "    # i = 1\n",
    "    # sorted a[0..i-1]\n",
    "    for i in range(1, n) :\n",
    "        # insert i in the right position\n",
    "        j = i - 1\n",
    "        el = a[i]\n",
    "        while el < a[j] and j > 0 :\n",
    "            a[j + 1] = a[j]\n",
    "            j = j - 1\n",
    "        # el >= a[j] or j == 0\n",
    "        if el < a[j] : # j == 0\n",
    "            a[1] = a[0]\n",
    "            a[0] = el\n",
    "        else : # el >= a[j] \n",
    "            a[j + 1] = el\n",
    "        print(\"after insertion \", i, \": \", a)\n",
    "    return a"
   ]
  },
  {
   "cell_type": "code",
   "execution_count": 2,
   "metadata": {},
   "outputs": [
    {
     "name": "stdout",
     "output_type": "stream",
     "text": [
      "input:                [-2, 3, 10, -5, 13, 14, 20, -99]\n",
      "after insertion  1 :  [-2, 3, 10, -5, 13, 14, 20, -99]\n",
      "after insertion  2 :  [-2, 3, 10, -5, 13, 14, 20, -99]\n",
      "after insertion  3 :  [-5, -2, 3, 10, 13, 14, 20, -99]\n",
      "after insertion  4 :  [-5, -2, 3, 10, 13, 14, 20, -99]\n",
      "after insertion  5 :  [-5, -2, 3, 10, 13, 14, 20, -99]\n",
      "after insertion  6 :  [-5, -2, 3, 10, 13, 14, 20, -99]\n",
      "after insertion  7 :  [-99, -5, -2, 3, 10, 13, 14, 20]\n"
     ]
    },
    {
     "data": {
      "text/plain": [
       "[-99, -5, -2, 3, 10, 13, 14, 20]"
      ]
     },
     "execution_count": 2,
     "metadata": {},
     "output_type": "execute_result"
    }
   ],
   "source": [
    "s = [-2, 3, 10, -5, 13, 14, 20, -99]\n",
    "print(\"input:               \", s)\n",
    "insertion_sort(s)"
   ]
  },
  {
   "cell_type": "code",
   "execution_count": null,
   "metadata": {},
   "outputs": [],
   "source": []
  },
  {
   "cell_type": "code",
   "execution_count": 3,
   "metadata": {},
   "outputs": [
    {
     "name": "stdout",
     "output_type": "stream",
     "text": [
      "after insertion  1 :  [1, 10, 3, 5, -3, 7, 9, 0]\n",
      "after insertion  2 :  [1, 3, 10, 5, -3, 7, 9, 0]\n",
      "after insertion  3 :  [1, 3, 5, 10, -3, 7, 9, 0]\n",
      "after insertion  4 :  [-3, 1, 3, 5, 10, 7, 9, 0]\n",
      "after insertion  5 :  [-3, 1, 3, 5, 7, 10, 9, 0]\n",
      "after insertion  6 :  [-3, 1, 3, 5, 7, 9, 10, 0]\n",
      "after insertion  7 :  [-3, 0, 1, 3, 5, 7, 9, 10]\n"
     ]
    },
    {
     "data": {
      "text/plain": [
       "[-3, 0, 1, 3, 5, 7, 9, 10]"
      ]
     },
     "execution_count": 3,
     "metadata": {},
     "output_type": "execute_result"
    }
   ],
   "source": [
    "s = [1, 10, 3, 5, -3, 7, 9, 0]\n",
    "insertion_sort(s)"
   ]
  },
  {
   "cell_type": "code",
   "execution_count": 4,
   "metadata": {},
   "outputs": [],
   "source": [
    "import numpy as np\n",
    "randarr = np.random.randint(1, 26, 10)"
   ]
  },
  {
   "cell_type": "code",
   "execution_count": 5,
   "metadata": {},
   "outputs": [
    {
     "data": {
      "text/plain": [
       "array([ 8,  2, 11,  9, 10, 23, 20, 10,  7, 21])"
      ]
     },
     "execution_count": 5,
     "metadata": {},
     "output_type": "execute_result"
    }
   ],
   "source": [
    "randarr"
   ]
  },
  {
   "cell_type": "code",
   "execution_count": 6,
   "metadata": {},
   "outputs": [
    {
     "name": "stdout",
     "output_type": "stream",
     "text": [
      "in:   [18  4]\n",
      "after insertion  1 :  [ 4 18]\n",
      "out:  [ 4 18]\n",
      "in:   [ 5 16 10]\n",
      "after insertion  1 :  [ 5 16 10]\n",
      "after insertion  2 :  [ 5 10 16]\n",
      "out:  [ 5 10 16]\n",
      "in:   [ 1  8 14 13]\n",
      "after insertion  1 :  [ 1  8 14 13]\n",
      "after insertion  2 :  [ 1  8 14 13]\n",
      "after insertion  3 :  [ 1  8 13 14]\n",
      "out:  [ 1  8 13 14]\n",
      "in:   [17 18  5 10  9]\n",
      "after insertion  1 :  [17 18  5 10  9]\n",
      "after insertion  2 :  [ 5 17 18 10  9]\n",
      "after insertion  3 :  [ 5 10 17 18  9]\n",
      "after insertion  4 :  [ 5  9 10 17 18]\n",
      "out:  [ 5  9 10 17 18]\n",
      "in:   [ 1 11  2 18  9  6]\n",
      "after insertion  1 :  [ 1 11  2 18  9  6]\n",
      "after insertion  2 :  [ 1  2 11 18  9  6]\n",
      "after insertion  3 :  [ 1  2 11 18  9  6]\n",
      "after insertion  4 :  [ 1  2  9 11 18  6]\n",
      "after insertion  5 :  [ 1  2  6  9 11 18]\n",
      "out:  [ 1  2  6  9 11 18]\n",
      "in:   [16 10  5  5 10  2  8]\n",
      "after insertion  1 :  [10 16  5  5 10  2  8]\n",
      "after insertion  2 :  [ 5 10 16  5 10  2  8]\n",
      "after insertion  3 :  [ 5  5 10 16 10  2  8]\n",
      "after insertion  4 :  [ 5  5 10 10 16  2  8]\n",
      "after insertion  5 :  [ 2  5  5 10 10 16  8]\n",
      "after insertion  6 :  [ 2  5  5  8 10 10 16]\n",
      "out:  [ 2  5  5  8 10 10 16]\n"
     ]
    }
   ],
   "source": [
    "for i in range (2, 8) :\n",
    "    randarr = np.random.randint(1, 20, i)\n",
    "    print(\"in:  \", randarr)\n",
    "    print(\"out: \", insertion_sort(randarr))"
   ]
  },
  {
   "cell_type": "code",
   "execution_count": 7,
   "metadata": {},
   "outputs": [
    {
     "name": "stdout",
     "output_type": "stream",
     "text": [
      "after insertion  1 :  [1, 2, 3, 10, -100]\n",
      "after insertion  2 :  [1, 2, 3, 10, -100]\n",
      "after insertion  3 :  [1, 2, 3, 10, -100]\n",
      "after insertion  4 :  [-100, 1, 2, 3, 10]\n"
     ]
    },
    {
     "data": {
      "text/plain": [
       "[-100, 1, 2, 3, 10]"
      ]
     },
     "execution_count": 7,
     "metadata": {},
     "output_type": "execute_result"
    }
   ],
   "source": [
    "insertion_sort([2, 1, 3, 10, -100])"
   ]
  },
  {
   "cell_type": "code",
   "execution_count": 8,
   "metadata": {},
   "outputs": [],
   "source": [
    "def merge(a, b) :\n",
    "    c = []\n",
    "    n1 = len(a)\n",
    "    n2 = len(b)\n",
    "    k1 = 0\n",
    "    k2 = 0\n",
    "    i = 0\n",
    "    # invariant: merged a[0..k1 - 1] with b[0..k2 - 2]\n",
    "    while k1 < n1 and k2 < n2 :\n",
    "        if a[k1] <= b[k2] :\n",
    "            c.append(a[k1])\n",
    "            k1 = k1 + 1\n",
    "        else :\n",
    "            c.append(b[k2])\n",
    "            k2 = k2 + 1\n",
    "    # k1 >= n1 or k2 >= n2\n",
    "    if k1 == n1 :\n",
    "        while k2 < n2 :\n",
    "            c.append(b[k2])\n",
    "            k2 = k2 + 1\n",
    "    if k2 == n2 :\n",
    "        while k1 < n1 :\n",
    "            c.append(a[k1])\n",
    "            k1 = k1 + 1\n",
    "    return c\n",
    "        \n",
    "def merge_sort(a) :\n",
    "    if len(a) == 1 : return a[0:1]\n",
    "    n = len(a)\n",
    "    a1 = a[0 : n // 2]\n",
    "    a2 = a[n // 2 : ]\n",
    "    return  merge(merge_sort(a1), merge_sort(a2))\n"
   ]
  },
  {
   "cell_type": "code",
   "execution_count": 9,
   "metadata": {},
   "outputs": [
    {
     "data": {
      "text/plain": [
       "[-11, -10, 1, 2, 3, 5, 7, 101, 1000, 10003]"
      ]
     },
     "execution_count": 9,
     "metadata": {},
     "output_type": "execute_result"
    }
   ],
   "source": [
    "merge([1, 2, 5, 101, 1000, 10003], [-11, -10, 3, 7])"
   ]
  },
  {
   "cell_type": "code",
   "execution_count": 10,
   "metadata": {},
   "outputs": [
    {
     "data": {
      "text/plain": [
       "[1, 3, 20, 30, 100]"
      ]
     },
     "execution_count": 10,
     "metadata": {},
     "output_type": "execute_result"
    }
   ],
   "source": [
    "merge_sort([3, 1, 20, 30, 100])"
   ]
  },
  {
   "cell_type": "code",
   "execution_count": 11,
   "metadata": {},
   "outputs": [
    {
     "name": "stdout",
     "output_type": "stream",
     "text": [
      "[0, 1, 4] [30, 7, 5]\n"
     ]
    }
   ],
   "source": [
    "s = [0, 1, 4, 30, 7, 5]\n",
    "a1 = s[0 : len(s) // 2]\n",
    "a2 = s[len(s) // 2 :]\n",
    "print(a1, a2)"
   ]
  },
  {
   "cell_type": "code",
   "execution_count": 12,
   "metadata": {},
   "outputs": [
    {
     "data": {
      "text/plain": [
       "[3, 4]"
      ]
     },
     "execution_count": 12,
     "metadata": {},
     "output_type": "execute_result"
    }
   ],
   "source": [
    "[1, 2, 3, 4][3//2 + 1 :]"
   ]
  },
  {
   "cell_type": "code",
   "execution_count": null,
   "metadata": {},
   "outputs": [],
   "source": []
  },
  {
   "cell_type": "code",
   "execution_count": 13,
   "metadata": {},
   "outputs": [
    {
     "name": "stdout",
     "output_type": "stream",
     "text": [
      "in:   [19  6]\n",
      "out:  [6, 19]\n",
      "in:   [13 15 18]\n",
      "out:  [13, 15, 18]\n",
      "in:   [12  4 19  6]\n",
      "out:  [4, 6, 12, 19]\n",
      "in:   [ 5 18 14 12  5]\n",
      "out:  [5, 5, 12, 14, 18]\n",
      "in:   [19  8  3 12 17 15]\n",
      "out:  [3, 8, 12, 15, 17, 19]\n",
      "in:   [16  1  5 16 11  9 19]\n",
      "out:  [1, 5, 9, 11, 16, 16, 19]\n"
     ]
    }
   ],
   "source": [
    "\n",
    "for i in range (2, 8) :\n",
    "    randarr = np.random.randint(1, 20, i)\n",
    "    print(\"in:  \", randarr)\n",
    "    print(\"out: \", merge_sort(randarr))"
   ]
  },
  {
   "cell_type": "code",
   "execution_count": 14,
   "metadata": {},
   "outputs": [],
   "source": [
    "def quicksort(s) :\n",
    "    if len(s) <= 1 : return s\n",
    "    p = s[len(s) // 2]\n",
    "    a = []\n",
    "    b = []\n",
    "    c = []\n",
    "    for i in range(0, len(s)) :\n",
    "        if s[i] < p : a.append(s[i])\n",
    "    for i in range(0, len(s)) :\n",
    "        if s[i] == p : b.append(s[i])\n",
    "    for i in range(0, len(s)) :\n",
    "        if s[i] > p : c.append(s[i])\n",
    "    return quicksort(a) + b + quicksort(c)\n"
   ]
  },
  {
   "cell_type": "code",
   "execution_count": 15,
   "metadata": {},
   "outputs": [
    {
     "name": "stdout",
     "output_type": "stream",
     "text": [
      "in:   [5 2]\n",
      "out:  [2, 5]\n",
      "in:   [11 11  8]\n",
      "out:  [8, 11, 11]\n",
      "in:   [11  1 12 11]\n",
      "out:  [1, 11, 11, 12]\n",
      "in:   [16 18 10  9  6]\n",
      "out:  [6, 9, 10, 16, 18]\n",
      "in:   [ 1 11 10 16  9  3]\n",
      "out:  [1, 3, 9, 10, 11, 16]\n",
      "in:   [11 11  3 19  5  7 12]\n",
      "out:  [3, 5, 7, 11, 11, 12, 19]\n"
     ]
    }
   ],
   "source": [
    "for i in range (2, 8) :\n",
    "    randarr = np.random.randint(1, 20, i)\n",
    "    print(\"in:  \", randarr)\n",
    "    print(\"out: \", quicksort(randarr))"
   ]
  },
  {
   "cell_type": "code",
   "execution_count": 16,
   "metadata": {},
   "outputs": [
    {
     "data": {
      "text/plain": [
       "[-1, -1, 1, 1, 2, 2, 10]"
      ]
     },
     "execution_count": 16,
     "metadata": {},
     "output_type": "execute_result"
    }
   ],
   "source": [
    "quicksort([1, 1, 2, 2, 10, -1, -1])"
   ]
  },
  {
   "cell_type": "code",
   "execution_count": null,
   "metadata": {},
   "outputs": [],
   "source": [
    "    \n"
   ]
  },
  {
   "cell_type": "code",
   "execution_count": 29,
   "metadata": {},
   "outputs": [
    {
     "ename": "KeyboardInterrupt",
     "evalue": "",
     "output_type": "error",
     "traceback": [
      "\u001b[0;31m---------------------------------------------------------------------------\u001b[0m",
      "\u001b[0;31mKeyboardInterrupt\u001b[0m                         Traceback (most recent call last)",
      "Cell \u001b[0;32mIn[29], line 1\u001b[0m\n\u001b[0;32m----> 1\u001b[0m \u001b[38;5;28;01mdef\u001b[39;00m \u001b[38;5;21mfind_min\u001b[39m(a) :\n\u001b[1;32m      2\u001b[0m     N \u001b[38;5;241m=\u001b[39m \u001b[38;5;28mlen\u001b[39m(a)\n\u001b[1;32m      3\u001b[0m     i \u001b[38;5;241m=\u001b[39m \u001b[38;5;241m1\u001b[39m\n",
      "Cell \u001b[0;32mIn[29], line 1\u001b[0m\n\u001b[0;32m----> 1\u001b[0m \u001b[38;5;28;01mdef\u001b[39;00m \u001b[38;5;21mfind_min\u001b[39m(a) :\n\u001b[1;32m      2\u001b[0m     N \u001b[38;5;241m=\u001b[39m \u001b[38;5;28mlen\u001b[39m(a)\n\u001b[1;32m      3\u001b[0m     i \u001b[38;5;241m=\u001b[39m \u001b[38;5;241m1\u001b[39m\n",
      "File \u001b[0;32m_pydevd_bundle/pydevd_cython.pyx:1457\u001b[0m, in \u001b[0;36m_pydevd_bundle.pydevd_cython.SafeCallWrapper.__call__\u001b[0;34m()\u001b[0m\n",
      "File \u001b[0;32m_pydevd_bundle/pydevd_cython.pyx:701\u001b[0m, in \u001b[0;36m_pydevd_bundle.pydevd_cython.PyDBFrame.trace_dispatch\u001b[0;34m()\u001b[0m\n",
      "File \u001b[0;32m_pydevd_bundle/pydevd_cython.pyx:1152\u001b[0m, in \u001b[0;36m_pydevd_bundle.pydevd_cython.PyDBFrame.trace_dispatch\u001b[0;34m()\u001b[0m\n",
      "File \u001b[0;32m_pydevd_bundle/pydevd_cython.pyx:1135\u001b[0m, in \u001b[0;36m_pydevd_bundle.pydevd_cython.PyDBFrame.trace_dispatch\u001b[0;34m()\u001b[0m\n",
      "File \u001b[0;32m_pydevd_bundle/pydevd_cython.pyx:312\u001b[0m, in \u001b[0;36m_pydevd_bundle.pydevd_cython.PyDBFrame.do_wait_suspend\u001b[0;34m()\u001b[0m\n",
      "File \u001b[0;32m~/.local/lib/python3.10/site-packages/debugpy/_vendored/pydevd/pydevd.py:2070\u001b[0m, in \u001b[0;36mPyDB.do_wait_suspend\u001b[0;34m(self, thread, frame, event, arg, exception_type)\u001b[0m\n\u001b[1;32m   2067\u001b[0m             from_this_thread\u001b[38;5;241m.\u001b[39mappend(frame_custom_thread_id)\n\u001b[1;32m   2069\u001b[0m     \u001b[38;5;28;01mwith\u001b[39;00m \u001b[38;5;28mself\u001b[39m\u001b[38;5;241m.\u001b[39m_threads_suspended_single_notification\u001b[38;5;241m.\u001b[39mnotify_thread_suspended(thread_id, thread, stop_reason):\n\u001b[0;32m-> 2070\u001b[0m         keep_suspended \u001b[38;5;241m=\u001b[39m \u001b[38;5;28;43mself\u001b[39;49m\u001b[38;5;241;43m.\u001b[39;49m\u001b[43m_do_wait_suspend\u001b[49m\u001b[43m(\u001b[49m\u001b[43mthread\u001b[49m\u001b[43m,\u001b[49m\u001b[43m \u001b[49m\u001b[43mframe\u001b[49m\u001b[43m,\u001b[49m\u001b[43m \u001b[49m\u001b[43mevent\u001b[49m\u001b[43m,\u001b[49m\u001b[43m \u001b[49m\u001b[43marg\u001b[49m\u001b[43m,\u001b[49m\u001b[43m \u001b[49m\u001b[43msuspend_type\u001b[49m\u001b[43m,\u001b[49m\u001b[43m \u001b[49m\u001b[43mfrom_this_thread\u001b[49m\u001b[43m,\u001b[49m\u001b[43m \u001b[49m\u001b[43mframes_tracker\u001b[49m\u001b[43m)\u001b[49m\n\u001b[1;32m   2072\u001b[0m frames_list \u001b[38;5;241m=\u001b[39m \u001b[38;5;28;01mNone\u001b[39;00m\n\u001b[1;32m   2074\u001b[0m \u001b[38;5;28;01mif\u001b[39;00m keep_suspended:\n\u001b[1;32m   2075\u001b[0m     \u001b[38;5;66;03m# This means that we should pause again after a set next statement.\u001b[39;00m\n",
      "File \u001b[0;32m~/.local/lib/python3.10/site-packages/debugpy/_vendored/pydevd/pydevd.py:2106\u001b[0m, in \u001b[0;36mPyDB._do_wait_suspend\u001b[0;34m(self, thread, frame, event, arg, suspend_type, from_this_thread, frames_tracker)\u001b[0m\n\u001b[1;32m   2103\u001b[0m         \u001b[38;5;28mself\u001b[39m\u001b[38;5;241m.\u001b[39m_call_input_hook()\n\u001b[1;32m   2105\u001b[0m     \u001b[38;5;28mself\u001b[39m\u001b[38;5;241m.\u001b[39mprocess_internal_commands()\n\u001b[0;32m-> 2106\u001b[0m     \u001b[43mtime\u001b[49m\u001b[38;5;241;43m.\u001b[39;49m\u001b[43msleep\u001b[49m\u001b[43m(\u001b[49m\u001b[38;5;241;43m0.01\u001b[39;49m\u001b[43m)\u001b[49m\n\u001b[1;32m   2108\u001b[0m \u001b[38;5;28mself\u001b[39m\u001b[38;5;241m.\u001b[39mcancel_async_evaluation(get_current_thread_id(thread), \u001b[38;5;28mstr\u001b[39m(\u001b[38;5;28mid\u001b[39m(frame)))\n\u001b[1;32m   2110\u001b[0m \u001b[38;5;66;03m# process any stepping instructions\u001b[39;00m\n",
      "\u001b[0;31mKeyboardInterrupt\u001b[0m: "
     ]
    }
   ],
   "source": [
    "def find_min(a) :\n",
    "    N = len(a)\n",
    "    i = 1\n",
    "    min = a[0]\n",
    "    j = 0\n",
    "    # a[j] == min == min(a[0..i-1])\n",
    "    while (i < N) :\n",
    "        if a[i] < min :\n",
    "            min = a[i]\n",
    "            j = i\n",
    "        i = i + 1\n",
    "    return j\n",
    "\n",
    "def selection_sort(a) :\n",
    "    N = len(a)\n",
    "    j = 0\n",
    "    # sorted a[0..j-1] && a[0..j-1] <= a[j..N-1]\n",
    "    while (j < N) :\n",
    "        # find min a[j..N-1]\n",
    "        k = j\n",
    "        min = a[k]\n",
    "        i = j + 1\n",
    "        #a[k] == min == min(a[j .. i - 1])\n",
    "        while (i < N) :\n",
    "            if a[i] < min :\n",
    "                min = a[i]\n",
    "                k = i\n",
    "            i = i + 1\n",
    "        # k = j + find_min(a[j :])\n",
    "        a[j], a[k] = a[k], a[j]\n",
    "        j = j + 1\n",
    "    return a\n",
    "\n"
   ]
  },
  {
   "cell_type": "code",
   "execution_count": 18,
   "metadata": {},
   "outputs": [
    {
     "data": {
      "text/plain": [
       "0"
      ]
     },
     "execution_count": 18,
     "metadata": {},
     "output_type": "execute_result"
    }
   ],
   "source": [
    "find_min([-100, 1, -3, 10, 5, -99])"
   ]
  },
  {
   "cell_type": "code",
   "execution_count": 19,
   "metadata": {},
   "outputs": [
    {
     "data": {
      "text/plain": [
       "1"
      ]
     },
     "execution_count": 19,
     "metadata": {},
     "output_type": "execute_result"
    }
   ],
   "source": [
    "find_min([1, 2, -99, 10][1:])"
   ]
  },
  {
   "cell_type": "code",
   "execution_count": 20,
   "metadata": {},
   "outputs": [
    {
     "data": {
      "text/plain": [
       "[-99, -3, 1, 2, 10]"
      ]
     },
     "execution_count": 20,
     "metadata": {},
     "output_type": "execute_result"
    }
   ],
   "source": [
    "selection_sort([-99, 1, 2, -3, 10])"
   ]
  },
  {
   "cell_type": "code",
   "execution_count": 21,
   "metadata": {},
   "outputs": [
    {
     "name": "stdout",
     "output_type": "stream",
     "text": [
      "in:   [17 -3]\n",
      "out:  [-3 17]\n",
      "in:   [ 1 24 27]\n",
      "out:  [ 1 24 27]\n",
      "in:   [-20 -46 -33  30]\n",
      "out:  [-46 -33 -20  30]\n",
      "in:   [12 29 33 -1  8]\n",
      "out:  [-1  8 12 29 33]\n",
      "in:   [-34 -22 -45  -7 -24  29]\n",
      "out:  [-45 -34 -24 -22  -7  29]\n",
      "in:   [-13  31  46  38  27  22  -7]\n",
      "out:  [-13  -7  22  27  31  38  46]\n"
     ]
    }
   ],
   "source": [
    "for i in range (2, 8) :\n",
    "    randarr = np.random.randint(-50, 50, i)\n",
    "    print(\"in:  \", randarr)\n",
    "    print(\"out: \", selection_sort(randarr))"
   ]
  },
  {
   "cell_type": "code",
   "execution_count": 22,
   "metadata": {},
   "outputs": [],
   "source": [
    "def bubble(a) :\n",
    "    N = len(a)\n",
    "    i = 0\n",
    "    # a[i] == max(a[0..i])\n",
    "    while i < N - 1:\n",
    "        if a[i] > a[i + 1] :\n",
    "            a[i], a[i+1] = a[i+1], a[i]\n",
    "        i = i + 1\n",
    "    # post-loop: i == N - 1\n",
    "    return a \n",
    "\n",
    "\n",
    "def bubble_sort(a) :\n",
    "    N = len(a)\n",
    "    j = N\n",
    "    swapped = False\n",
    "    while True : # emulate do while loop\n",
    "        # sorted a[j .. N - 1] and a[0..j-1] <= a[j .. N - 1] \n",
    "        while j > 0 :\n",
    "            i = 0\n",
    "            while i < j - 1 :\n",
    "                if a[i] > a[i + 1] :\n",
    "                    a[i], a[i + 1] = a[i + 1], a[i]\n",
    "                i = i + 1\n",
    "            j = j - 1\n",
    "        if not swapped : break # if no swaps performed at all, array already\n",
    "                               # sorted \n",
    "    return a\n"
   ]
  },
  {
   "cell_type": "code",
   "execution_count": 23,
   "metadata": {},
   "outputs": [
    {
     "data": {
      "text/plain": [
       "[-5, 1, 2, 3, 4]"
      ]
     },
     "execution_count": 23,
     "metadata": {},
     "output_type": "execute_result"
    }
   ],
   "source": [
    "bubble_sort([1, 2, 3, 4, -5])"
   ]
  },
  {
   "cell_type": "code",
   "execution_count": 24,
   "metadata": {},
   "outputs": [
    {
     "name": "stdout",
     "output_type": "stream",
     "text": [
      "in:   [-4 -4]\n",
      "out:  [-4 -4]\n",
      "in:   [-45  17 -12]\n",
      "out:  [-45 -12  17]\n",
      "in:   [ 36 -43  -8  -5]\n",
      "out:  [-43  -8  -5  36]\n",
      "in:   [ 24  45 -46   9  35]\n",
      "out:  [-46   9  24  35  45]\n",
      "in:   [-18 -45  -1 -37 -20  36]\n",
      "out:  [-45 -37 -20 -18  -1  36]\n",
      "in:   [ -3  -8   9  -2 -15  43  35]\n",
      "out:  [-15  -8  -3  -2   9  35  43]\n"
     ]
    }
   ],
   "source": [
    "for i in range (2, 8) :\n",
    "    randarr = np.random.randint(-50, 50, i)\n",
    "    print(\"in:  \", randarr)\n",
    "    print(\"out: \", bubble_sort(randarr))"
   ]
  },
  {
   "cell_type": "code",
   "execution_count": 25,
   "metadata": {},
   "outputs": [],
   "source": [
    "def qSort(a, l, r) :\n",
    "    if l == r + 1 : return a\n",
    "    p = a[l] # choose simply first element as pivot\n",
    "    i = l\n",
    "    j = r\n",
    "    while True : # do while loop in python\n",
    "        while a[i] < p : i = i + 1\n",
    "        while a[j] > p : j = j - 1\n",
    "        if i <= j :\n",
    "            a[i], a[j] = a[j], a[i]\n",
    "            i = i + 1\n",
    "            j = j - 1\n",
    "        if i > j : break\n",
    "    qSort(a, l, j)\n",
    "    qSort(a, r, i)\n",
    "    return a\n",
    "        \n",
    "    \n",
    " "
   ]
  },
  {
   "cell_type": "code",
   "execution_count": 26,
   "metadata": {},
   "outputs": [
    {
     "ename": "IndexError",
     "evalue": "list index out of range",
     "output_type": "error",
     "traceback": [
      "\u001b[0;31m---------------------------------------------------------------------------\u001b[0m",
      "\u001b[0;31mIndexError\u001b[0m                                Traceback (most recent call last)",
      "Cell \u001b[0;32mIn[26], line 2\u001b[0m\n\u001b[1;32m      1\u001b[0m a \u001b[38;5;241m=\u001b[39m [\u001b[38;5;241m3\u001b[39m,\u001b[38;5;241m6\u001b[39m, \u001b[38;5;241m8\u001b[39m, \u001b[38;5;241m1\u001b[39m, \u001b[38;5;241m0\u001b[39m, \u001b[38;5;241m7\u001b[39m, \u001b[38;5;241m2\u001b[39m, \u001b[38;5;241m4\u001b[39m, \u001b[38;5;241m5\u001b[39m, \u001b[38;5;241m9\u001b[39m]\n\u001b[0;32m----> 2\u001b[0m \u001b[43mqSort\u001b[49m\u001b[43m(\u001b[49m\u001b[43ma\u001b[49m\u001b[43m,\u001b[49m\u001b[43m \u001b[49m\u001b[38;5;241;43m0\u001b[39;49m\u001b[43m,\u001b[49m\u001b[43m \u001b[49m\u001b[38;5;28;43mlen\u001b[39;49m\u001b[43m(\u001b[49m\u001b[43ma\u001b[49m\u001b[43m)\u001b[49m\u001b[43m \u001b[49m\u001b[38;5;241;43m-\u001b[39;49m\u001b[43m \u001b[49m\u001b[38;5;241;43m1\u001b[39;49m\u001b[43m)\u001b[49m\n",
      "Cell \u001b[0;32mIn[25], line 14\u001b[0m, in \u001b[0;36mqSort\u001b[0;34m(a, l, r)\u001b[0m\n\u001b[1;32m     12\u001b[0m         j \u001b[38;5;241m=\u001b[39m j \u001b[38;5;241m-\u001b[39m \u001b[38;5;241m1\u001b[39m\n\u001b[1;32m     13\u001b[0m     \u001b[38;5;28;01mif\u001b[39;00m i \u001b[38;5;241m>\u001b[39m j : \u001b[38;5;28;01mbreak\u001b[39;00m\n\u001b[0;32m---> 14\u001b[0m \u001b[43mqSort\u001b[49m\u001b[43m(\u001b[49m\u001b[43ma\u001b[49m\u001b[43m,\u001b[49m\u001b[43m \u001b[49m\u001b[43ml\u001b[49m\u001b[43m,\u001b[49m\u001b[43m \u001b[49m\u001b[43mj\u001b[49m\u001b[43m)\u001b[49m\n\u001b[1;32m     15\u001b[0m qSort(a, r, i)\n\u001b[1;32m     16\u001b[0m \u001b[38;5;28;01mreturn\u001b[39;00m a\n",
      "Cell \u001b[0;32mIn[25], line 14\u001b[0m, in \u001b[0;36mqSort\u001b[0;34m(a, l, r)\u001b[0m\n\u001b[1;32m     12\u001b[0m         j \u001b[38;5;241m=\u001b[39m j \u001b[38;5;241m-\u001b[39m \u001b[38;5;241m1\u001b[39m\n\u001b[1;32m     13\u001b[0m     \u001b[38;5;28;01mif\u001b[39;00m i \u001b[38;5;241m>\u001b[39m j : \u001b[38;5;28;01mbreak\u001b[39;00m\n\u001b[0;32m---> 14\u001b[0m \u001b[43mqSort\u001b[49m\u001b[43m(\u001b[49m\u001b[43ma\u001b[49m\u001b[43m,\u001b[49m\u001b[43m \u001b[49m\u001b[43ml\u001b[49m\u001b[43m,\u001b[49m\u001b[43m \u001b[49m\u001b[43mj\u001b[49m\u001b[43m)\u001b[49m\n\u001b[1;32m     15\u001b[0m qSort(a, r, i)\n\u001b[1;32m     16\u001b[0m \u001b[38;5;28;01mreturn\u001b[39;00m a\n",
      "    \u001b[0;31m[... skipping similar frames: qSort at line 14 (1 times)]\u001b[0m\n",
      "Cell \u001b[0;32mIn[25], line 15\u001b[0m, in \u001b[0;36mqSort\u001b[0;34m(a, l, r)\u001b[0m\n\u001b[1;32m     13\u001b[0m     \u001b[38;5;28;01mif\u001b[39;00m i \u001b[38;5;241m>\u001b[39m j : \u001b[38;5;28;01mbreak\u001b[39;00m\n\u001b[1;32m     14\u001b[0m qSort(a, l, j)\n\u001b[0;32m---> 15\u001b[0m \u001b[43mqSort\u001b[49m\u001b[43m(\u001b[49m\u001b[43ma\u001b[49m\u001b[43m,\u001b[49m\u001b[43m \u001b[49m\u001b[43mr\u001b[49m\u001b[43m,\u001b[49m\u001b[43m \u001b[49m\u001b[43mi\u001b[49m\u001b[43m)\u001b[49m\n\u001b[1;32m     16\u001b[0m \u001b[38;5;28;01mreturn\u001b[39;00m a\n",
      "Cell \u001b[0;32mIn[25], line 15\u001b[0m, in \u001b[0;36mqSort\u001b[0;34m(a, l, r)\u001b[0m\n\u001b[1;32m     13\u001b[0m     \u001b[38;5;28;01mif\u001b[39;00m i \u001b[38;5;241m>\u001b[39m j : \u001b[38;5;28;01mbreak\u001b[39;00m\n\u001b[1;32m     14\u001b[0m qSort(a, l, j)\n\u001b[0;32m---> 15\u001b[0m \u001b[43mqSort\u001b[49m\u001b[43m(\u001b[49m\u001b[43ma\u001b[49m\u001b[43m,\u001b[49m\u001b[43m \u001b[49m\u001b[43mr\u001b[49m\u001b[43m,\u001b[49m\u001b[43m \u001b[49m\u001b[43mi\u001b[49m\u001b[43m)\u001b[49m\n\u001b[1;32m     16\u001b[0m \u001b[38;5;28;01mreturn\u001b[39;00m a\n",
      "    \u001b[0;31m[... skipping similar frames: qSort at line 15 (17 times), qSort at line 14 (4 times)]\u001b[0m\n",
      "Cell \u001b[0;32mIn[25], line 14\u001b[0m, in \u001b[0;36mqSort\u001b[0;34m(a, l, r)\u001b[0m\n\u001b[1;32m     12\u001b[0m         j \u001b[38;5;241m=\u001b[39m j \u001b[38;5;241m-\u001b[39m \u001b[38;5;241m1\u001b[39m\n\u001b[1;32m     13\u001b[0m     \u001b[38;5;28;01mif\u001b[39;00m i \u001b[38;5;241m>\u001b[39m j : \u001b[38;5;28;01mbreak\u001b[39;00m\n\u001b[0;32m---> 14\u001b[0m \u001b[43mqSort\u001b[49m\u001b[43m(\u001b[49m\u001b[43ma\u001b[49m\u001b[43m,\u001b[49m\u001b[43m \u001b[49m\u001b[43ml\u001b[49m\u001b[43m,\u001b[49m\u001b[43m \u001b[49m\u001b[43mj\u001b[49m\u001b[43m)\u001b[49m\n\u001b[1;32m     15\u001b[0m qSort(a, r, i)\n\u001b[1;32m     16\u001b[0m \u001b[38;5;28;01mreturn\u001b[39;00m a\n",
      "    \u001b[0;31m[... skipping similar frames: qSort at line 15 (4 times)]\u001b[0m\n",
      "Cell \u001b[0;32mIn[25], line 15\u001b[0m, in \u001b[0;36mqSort\u001b[0;34m(a, l, r)\u001b[0m\n\u001b[1;32m     13\u001b[0m     \u001b[38;5;28;01mif\u001b[39;00m i \u001b[38;5;241m>\u001b[39m j : \u001b[38;5;28;01mbreak\u001b[39;00m\n\u001b[1;32m     14\u001b[0m qSort(a, l, j)\n\u001b[0;32m---> 15\u001b[0m \u001b[43mqSort\u001b[49m\u001b[43m(\u001b[49m\u001b[43ma\u001b[49m\u001b[43m,\u001b[49m\u001b[43m \u001b[49m\u001b[43mr\u001b[49m\u001b[43m,\u001b[49m\u001b[43m \u001b[49m\u001b[43mi\u001b[49m\u001b[43m)\u001b[49m\n\u001b[1;32m     16\u001b[0m \u001b[38;5;28;01mreturn\u001b[39;00m a\n",
      "Cell \u001b[0;32mIn[25], line 8\u001b[0m, in \u001b[0;36mqSort\u001b[0;34m(a, l, r)\u001b[0m\n\u001b[1;32m      6\u001b[0m \u001b[38;5;28;01mwhile\u001b[39;00m \u001b[38;5;28;01mTrue\u001b[39;00m : \u001b[38;5;66;03m# do while loop in python\u001b[39;00m\n\u001b[1;32m      7\u001b[0m     \u001b[38;5;28;01mwhile\u001b[39;00m a[i] \u001b[38;5;241m<\u001b[39m p : i \u001b[38;5;241m=\u001b[39m i \u001b[38;5;241m+\u001b[39m \u001b[38;5;241m1\u001b[39m\n\u001b[0;32m----> 8\u001b[0m     \u001b[38;5;28;01mwhile\u001b[39;00m \u001b[43ma\u001b[49m\u001b[43m[\u001b[49m\u001b[43mj\u001b[49m\u001b[43m]\u001b[49m \u001b[38;5;241m>\u001b[39m p : j \u001b[38;5;241m=\u001b[39m j \u001b[38;5;241m-\u001b[39m \u001b[38;5;241m1\u001b[39m\n\u001b[1;32m      9\u001b[0m     \u001b[38;5;28;01mif\u001b[39;00m i \u001b[38;5;241m<\u001b[39m\u001b[38;5;241m=\u001b[39m j :\n\u001b[1;32m     10\u001b[0m         a[i], a[j] \u001b[38;5;241m=\u001b[39m a[j], a[i]\n",
      "\u001b[0;31mIndexError\u001b[0m: list index out of range"
     ]
    }
   ],
   "source": [
    "a = [3,6, 8, 1, 0, 7, 2, 4, 5, 9]\n",
    "qSort(a, 0, len(a) - 1)"
   ]
  },
  {
   "cell_type": "code",
   "execution_count": null,
   "metadata": {},
   "outputs": [],
   "source": [
    "# sorts keys in range [0, 10)\n",
    "def KSort(s, key) :\n",
    "    # initialize orray of length 100 with empty buckets\n",
    "    b = []\n",
    "    for i in range(10) : b.append([])\n",
    "\n",
    "    # place elements in buckets\n",
    "    for el in s : b[key(el)].append(el)\n",
    "    \n",
    "    # print state of buckets:\n",
    "    for i in range(10) :\n",
    "        print(\"bucket\", i, \": \", list(map(str, b[i])))\n",
    "    # array holding results\n",
    "    res = []\n",
    "\n",
    "    # append elements in buckets to res\n",
    "    for i in range(10) :\n",
    "        for el in b[i] : res.append(el)\n",
    "    return res\n",
    "\n",
    "def LSDRadixSort(a) :\n",
    "    for i in range(4) :\n",
    "        print(\"d ==\", i)\n",
    "        a = KSort(a, lambda x : (x // 10**i) % 10)\n",
    "        print(\"\")\n",
    "    return a\n"
   ]
  },
  {
   "cell_type": "code",
   "execution_count": null,
   "metadata": {},
   "outputs": [
    {
     "name": "stdout",
     "output_type": "stream",
     "text": [
      "d == 0\n",
      "bucket 0 :  []\n",
      "bucket 1 :  ['1', '201']\n",
      "bucket 2 :  []\n",
      "bucket 3 :  []\n",
      "bucket 4 :  ['1004']\n",
      "bucket 5 :  ['315', '2005']\n",
      "bucket 6 :  ['156']\n",
      "bucket 7 :  []\n",
      "bucket 8 :  []\n",
      "bucket 9 :  ['9']\n",
      "\n",
      "d == 1\n",
      "bucket 0 :  ['1', '201', '1004', '2005', '9']\n",
      "bucket 1 :  ['315']\n",
      "bucket 2 :  []\n",
      "bucket 3 :  []\n",
      "bucket 4 :  []\n",
      "bucket 5 :  ['156']\n",
      "bucket 6 :  []\n",
      "bucket 7 :  []\n",
      "bucket 8 :  []\n",
      "bucket 9 :  []\n",
      "\n",
      "d == 2\n",
      "bucket 0 :  ['1', '1004', '2005', '9']\n",
      "bucket 1 :  ['156']\n",
      "bucket 2 :  ['201']\n",
      "bucket 3 :  ['315']\n",
      "bucket 4 :  []\n",
      "bucket 5 :  []\n",
      "bucket 6 :  []\n",
      "bucket 7 :  []\n",
      "bucket 8 :  []\n",
      "bucket 9 :  []\n",
      "\n",
      "d == 3\n",
      "bucket 0 :  ['1', '9', '156', '201', '315']\n",
      "bucket 1 :  ['1004']\n",
      "bucket 2 :  ['2005']\n",
      "bucket 3 :  []\n",
      "bucket 4 :  []\n",
      "bucket 5 :  []\n",
      "bucket 6 :  []\n",
      "bucket 7 :  []\n",
      "bucket 8 :  []\n",
      "bucket 9 :  []\n",
      "\n",
      "[1, 9, 156, 201, 315, 1004, 2005]\n"
     ]
    }
   ],
   "source": [
    "a = [1, 201, 1004, 315, 9, 156, 2005]\n",
    "print(LSDRadixSort(a))\n",
    "\n",
    "# a = KSort(a, lambda x : (x // 10**0) % 10)\n",
    "# print(a)\n",
    "# a = KSort(a, lambda x : (x // 10**1) % 10)\n",
    "# print(a)\n",
    "# a = KSort(a, lambda x : (x // 10**2) % 10)\n",
    "# print(a)\n",
    "# a = KSort(a, lambda x : (x // 10**3) % 10)\n",
    "# print(a)\n",
    "\n",
    "# randarr = np.random.randint(0, 10**5, 20)\n",
    "# print(LSDRadixSort(randarr))\n",
    "\n",
    "# for i in range(5, 10) :\n",
    "#     randarr = np.random.randint(0, 10**5, i)\n",
    "#     print(\"input: \", randarr)\n",
    "#     print(\"output: \", LSDRadixSort(randarr))\n"
   ]
  },
  {
   "cell_type": "code",
   "execution_count": null,
   "metadata": {},
   "outputs": [
    {
     "name": "stdout",
     "output_type": "stream",
     "text": [
      "in:   [5 2]\n",
      "out:  [2, 5]\n",
      "in:   [4 8 5]\n",
      "out:  [4, 5, 8]\n",
      "in:   [0 5 5 6]\n",
      "out:  [0, 5, 5, 6]\n",
      "in:   [5 2 0 6 0]\n",
      "out:  [0, 0, 2, 5, 6]\n",
      "in:   [4 6 6 2 2 2]\n",
      "out:  [2, 2, 2, 4, 6, 6]\n",
      "in:   [4 4 2 1 2 5 4]\n",
      "out:  [1, 2, 2, 4, 4, 4, 5]\n",
      "in:   [1 9 6 6 0 2 1 9]\n",
      "out:  [0, 1, 1, 2, 6, 6, 9, 9]\n",
      "in:   [9 8 6 0 3 1 4 7 4]\n",
      "out:  [0, 1, 3, 4, 4, 6, 7, 8, 9]\n"
     ]
    }
   ],
   "source": [
    "\n",
    "for i in range (2, 10) :\n",
    "    randarr = np.random.randint(0, 10, i)\n",
    "    print(\"in:  \", randarr)\n",
    "    print(\"out: \", KSort(randarr, lambda x : x))"
   ]
  },
  {
   "cell_type": "code",
   "execution_count": null,
   "metadata": {},
   "outputs": [
    {
     "data": {
      "text/plain": [
       "[1, 9]"
      ]
     },
     "execution_count": 72,
     "metadata": {},
     "output_type": "execute_result"
    }
   ],
   "source": [
    "a = [37, 1, 63, 43, 69, 94, 9, 75, 99, 11]\n",
    "KSort(a)"
   ]
  },
  {
   "cell_type": "code",
   "execution_count": null,
   "metadata": {},
   "outputs": [
    {
     "data": {
      "text/plain": [
       "[1, 2, 2, 3]"
      ]
     },
     "execution_count": 79,
     "metadata": {},
     "output_type": "execute_result"
    }
   ],
   "source": [
    "a = [2, 1, 3, 2]\n",
    "KSort(a)"
   ]
  },
  {
   "cell_type": "code",
   "execution_count": null,
   "metadata": {},
   "outputs": [
    {
     "name": "stdout",
     "output_type": "stream",
     "text": [
      "0\n",
      "1\n",
      "2\n",
      "6\n",
      "24\n",
      "120\n",
      "720\n",
      "5040\n",
      "40320\n",
      "362880\n"
     ]
    }
   ],
   "source": [
    "def fac(n) :\n",
    "    i = n\n",
    "    if i == 0 : return 0;\n",
    "    # i >= 1\n",
    "    res = 1\n",
    "    # res * fac(i) == fac(n) <=> res * i * fac(i - 1) == fac(n)\n",
    "    while i > 1 :\n",
    "        res = res * i\n",
    "        i = i - 1\n",
    "    # i == 1 => res * 1 == fac(n)\n",
    "    return res\n",
    "\n",
    "fac(5)\n",
    "\n",
    "for i in range (10) : print(fac(i))"
   ]
  },
  {
   "cell_type": "markdown",
   "metadata": {},
   "source": []
  },
  {
   "cell_type": "code",
   "execution_count": null,
   "metadata": {},
   "outputs": [
    {
     "name": "stdout",
     "output_type": "stream",
     "text": [
      "x:  1423 , digit sum:  10\n",
      "x:  2 , digit sum:  2\n",
      "x:  925 , digit sum:  16\n",
      "x:  4772 , digit sum:  20\n",
      "x:  1928 , digit sum:  20\n",
      "x:  1230 , digit sum:  6\n",
      "x:  899 , digit sum:  26\n",
      "x:  9052 , digit sum:  16\n",
      "x:  6205 , digit sum:  13\n",
      "x:  2929 , digit sum:  22\n"
     ]
    }
   ],
   "source": [
    "def sum_dig(x) :\n",
    "    # initially: x == X\n",
    "    res = 0\n",
    "    # invariant: res + sumdig(x) == sumdig(X)\n",
    "    while x > 0 :\n",
    "        res = res + x % 10\n",
    "        x = x // 10\n",
    "    # x == 0\n",
    "    return res\n",
    "\n",
    "randarr = np.random.randint(0, 10000, 10)\n",
    "for x in randarr : \n",
    "    print(\"x: \", x, \", digit sum: \", sum_dig(x))\n",
    "\n"
   ]
  },
  {
   "cell_type": "code",
   "execution_count": null,
   "metadata": {},
   "outputs": [
    {
     "data": {
      "text/plain": [
       "22"
      ]
     },
     "execution_count": 87,
     "metadata": {},
     "output_type": "execute_result"
    }
   ],
   "source": [
    "221 "
   ]
  },
  {
   "cell_type": "code",
   "execution_count": null,
   "metadata": {},
   "outputs": [
    {
     "name": "stdout",
     "output_type": "stream",
     "text": [
      "x:  7982 , digit sum:  26\n",
      "x:  900 , digit sum:  9\n",
      "x:  4400 , digit sum:  8\n",
      "x:  4143 , digit sum:  12\n",
      "x:  1841 , digit sum:  14\n",
      "x:  6602 , digit sum:  14\n",
      "x:  212 , digit sum:  5\n",
      "x:  4295 , digit sum:  20\n",
      "x:  7490 , digit sum:  20\n",
      "x:  1275 , digit sum:  15\n"
     ]
    }
   ],
   "source": [
    "def sum_dig_rec(x) :\n",
    "    if x == 0 : return 0\n",
    "    return x % 10 + sum_dig_rec(x // 10)\n",
    "\n",
    "\n",
    "import numpy as np\n",
    "randarr = np.random.randint(0, 10000, 10)\n",
    "for x in randarr : \n",
    "    print(\"x: \", x, \", digit sum: \", sum_dig_rec(x))"
   ]
  },
  {
   "cell_type": "code",
   "execution_count": null,
   "metadata": {},
   "outputs": [
    {
     "data": {
      "text/plain": [
       "15"
      ]
     },
     "execution_count": 31,
     "metadata": {},
     "output_type": "execute_result"
    }
   ],
   "source": [
    "(lambda a : a + 5)(10)"
   ]
  },
  {
   "cell_type": "code",
   "execution_count": null,
   "metadata": {},
   "outputs": [
    {
     "data": {
      "text/plain": [
       "'101'"
      ]
     },
     "execution_count": 34,
     "metadata": {},
     "output_type": "execute_result"
    }
   ],
   "source": [
    "def convert(x, base) :\n",
    "    s = []\n",
    "    if x == 0: return '0'\n",
    "    while (x > 0) :\n",
    "        s.insert(0, str(x % base))\n",
    "        x = x // base\n",
    "    return \"\".join(s)\n",
    "\n",
    "A = [147, 44, 337, 528, 45, 622]\n",
    "[convert(x, 7) for x in A]\n",
    "\n",
    "convert(5, 2)"
   ]
  },
  {
   "cell_type": "code",
   "execution_count": 35,
   "metadata": {},
   "outputs": [
    {
     "name": "stdout",
     "output_type": "stream",
     "text": [
      "[-3, 1, 3, 5]\n",
      "[-10, -2, 4, 7, 10]\n",
      "[-10, -3, -2, 1, 3, 4, 5, 7, 10]\n",
      "[-15, -3, 2, 10, 11, 11, 29, 99, 100]\n"
     ]
    }
   ],
   "source": [
    "a = [1, 3, 5, -3]\n",
    "b = [4, -2, 10, 7, -10]\n",
    "a.sort()\n",
    "b.sort()\n",
    "\n",
    "print(a)\n",
    "print(b)\n",
    "\n",
    "def merge(a, b) :\n",
    "    N = len(a)\n",
    "    M = len(b)\n",
    "    res = [0] * (N + M)\n",
    "    i = j = 0\n",
    "    # invariant: res == merge(a[0..i-1], b[0..j-1])\n",
    "    while i < N and j < M :\n",
    "        if a[i] < b[j] : res[i + j] = a[i]; i = i + 1\n",
    "        else : res[i + j] = b[j]; j = j + 1\n",
    "    # i >= N or j >= M\n",
    "    if i >= N : \n",
    "        for k in range(j, M) : res[k + N] = b[k]\n",
    "    else : \n",
    "        for k in range(i, N) : res[k + M] = a[k]\n",
    "    return res\n",
    "\n",
    "print(merge(a, b))\n",
    "\n",
    "\n",
    "def mergesort(a) :\n",
    "    N = len(a)\n",
    "    if N <= 1 : return a\n",
    "    a1 = a[0 : N // 2]\n",
    "    a2 = a[N // 2 : ]\n",
    "    return merge(mergesort(a1), mergesort(a2))\n",
    "\n",
    "print(mergesort([-3, 10, 2, 11, 11, 29, 100, 99, -15]))\n",
    "# "
   ]
  },
  {
   "cell_type": "code",
   "execution_count": null,
   "metadata": {},
   "outputs": [
    {
     "ename": "NameError",
     "evalue": "name 'A' is not defined",
     "output_type": "error",
     "traceback": [
      "\u001b[0;31m---------------------------------------------------------------------------\u001b[0m",
      "\u001b[0;31mNameError\u001b[0m                                 Traceback (most recent call last)",
      "Cell \u001b[0;32mIn[1], line 25\u001b[0m\n\u001b[1;32m     22\u001b[0m         \u001b[38;5;28mprint\u001b[39m(\u001b[38;5;124m\"\u001b[39m\u001b[38;5;124m\"\u001b[39m)\n\u001b[1;32m     23\u001b[0m     \u001b[38;5;28;01mreturn\u001b[39;00m a\n\u001b[0;32m---> 25\u001b[0m [convert(x, \u001b[38;5;241m7\u001b[39m) \u001b[38;5;28;01mfor\u001b[39;00m x \u001b[38;5;129;01min\u001b[39;00m LSDRadixSort7(\u001b[43mA\u001b[49m)]\n\u001b[1;32m     26\u001b[0m \u001b[38;5;66;03m# print(\"result: \", [convert(x, 7) for x in LSDRadixSort7(A)])\u001b[39;00m\n\u001b[1;32m     27\u001b[0m \u001b[38;5;66;03m# KSort7(A, lambda x : (x // 7**0) % 7)\u001b[39;00m\n\u001b[1;32m     28\u001b[0m \u001b[38;5;66;03m# A = KSort7(A, lambda x : (x // 7**0) % 7)\u001b[39;00m\n\u001b[1;32m     29\u001b[0m \u001b[38;5;66;03m# A = KSort7(A, lambda x : (x // 7**1) % 7)\u001b[39;00m\n\u001b[1;32m     30\u001b[0m \u001b[38;5;66;03m# A = KSort7(A, lambda x : (x // 7**2) % 7)\u001b[39;00m\n\u001b[1;32m     31\u001b[0m \u001b[38;5;66;03m# A = KSort7(A, lambda x : (x // 7**3) % 7)\u001b[39;00m\n",
      "\u001b[0;31mNameError\u001b[0m: name 'A' is not defined"
     ]
    }
   ],
   "source": [
    "\n",
    "# sorts keys in range [0, 7)\n",
    "def KSort7(s, key) :\n",
    "    # initialize orray of length 100 with empty buckets\n",
    "    b = []\n",
    "    for i in range(7) : b.append([])\n",
    "    # place elements in buckets\n",
    "    for el in s : b[key(el)].append(el)\n",
    "    # print state of the buckets\n",
    "    for i in range(7) :\n",
    "        print(\"bucket \", i, \": \", list(map(str, [convert(x, 7) for x in b[i]])))\n",
    "    # array holding results\n",
    "    res = []\n",
    "    # append elements in buckets to res\n",
    "    for i in range(7) :\n",
    "        for el in b[i] : res.append(el)\n",
    "    return res\n",
    "\n",
    "def LSDRadixSort7(a) :\n",
    "    for i in range(4) :\n",
    "        print(\"d == \", i)\n",
    "        a = KSort7(a, lambda x : (x // 7**i) % 7)\n",
    "        print(\"\")\n",
    "    return a\n",
    "\n",
    "[convert(x, 7) for x in LSDRadixSort7(A)]\n",
    "# print(\"result: \", [convert(x, 7) for x in LSDRadixSort7(A)])\n",
    "# KSort7(A, lambda x : (x // 7**0) % 7)\n",
    "# A = KSort7(A, lambda x : (x // 7**0) % 7)\n",
    "# A = KSort7(A, lambda x : (x // 7**1) % 7)\n",
    "# A = KSort7(A, lambda x : (x // 7**2) % 7)\n",
    "# A = KSort7(A, lambda x : (x // 7**3) % 7)"
   ]
  },
  {
   "cell_type": "code",
   "execution_count": null,
   "metadata": {},
   "outputs": [],
   "source": []
  }
 ],
 "metadata": {
  "kernelspec": {
   "display_name": "Python 3",
   "language": "python",
   "name": "python3"
  },
  "language_info": {
   "codemirror_mode": {
    "name": "ipython",
    "version": 3
   },
   "file_extension": ".py",
   "mimetype": "text/x-python",
   "name": "python",
   "nbconvert_exporter": "python",
   "pygments_lexer": "ipython3",
   "version": "3.10.12"
  }
 },
 "nbformat": 4,
 "nbformat_minor": 2
}
