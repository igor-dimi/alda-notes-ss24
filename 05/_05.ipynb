{
 "cells": [
  {
   "cell_type": "code",
   "execution_count": 1,
   "metadata": {},
   "outputs": [],
   "source": [
    "def insertion_sort(a) :\n",
    "    n = len(a)\n",
    "    # i = 1\n",
    "    # sorted a[0..i-1]\n",
    "    for i in range(1, n) :\n",
    "        # insert i in the right position\n",
    "        j = i - 1\n",
    "        el = a[i]\n",
    "        while el < a[j] and j > 0 :\n",
    "            a[j + 1] = a[j]\n",
    "            j = j - 1\n",
    "        # el >= a[j] or j == 0\n",
    "        if el < a[j] : # j == 0\n",
    "            a[1] = a[0]\n",
    "            a[0] = el\n",
    "        else : # el >= a[j] \n",
    "            a[j + 1] = el\n",
    "        print(\"after insertion \", i, \": \", a)\n",
    "    return a"
   ]
  },
  {
   "cell_type": "code",
   "execution_count": 2,
   "metadata": {},
   "outputs": [
    {
     "name": "stdout",
     "output_type": "stream",
     "text": [
      "input:                [-2, 3, 10, -5, 13, 14, 20, -99]\n",
      "after insertion  1 :  [-2, 3, 10, -5, 13, 14, 20, -99]\n",
      "after insertion  2 :  [-2, 3, 10, -5, 13, 14, 20, -99]\n",
      "after insertion  3 :  [-5, -2, 3, 10, 13, 14, 20, -99]\n",
      "after insertion  4 :  [-5, -2, 3, 10, 13, 14, 20, -99]\n",
      "after insertion  5 :  [-5, -2, 3, 10, 13, 14, 20, -99]\n",
      "after insertion  6 :  [-5, -2, 3, 10, 13, 14, 20, -99]\n",
      "after insertion  7 :  [-99, -5, -2, 3, 10, 13, 14, 20]\n"
     ]
    },
    {
     "data": {
      "text/plain": [
       "[-99, -5, -2, 3, 10, 13, 14, 20]"
      ]
     },
     "execution_count": 2,
     "metadata": {},
     "output_type": "execute_result"
    }
   ],
   "source": [
    "s = [-2, 3, 10, -5, 13, 14, 20, -99]\n",
    "print(\"input:               \", s)\n",
    "insertion_sort(s)"
   ]
  },
  {
   "cell_type": "code",
   "execution_count": null,
   "metadata": {},
   "outputs": [],
   "source": []
  },
  {
   "cell_type": "code",
   "execution_count": 3,
   "metadata": {},
   "outputs": [
    {
     "name": "stdout",
     "output_type": "stream",
     "text": [
      "after insertion  1 :  [1, 10, 3, 5, -3, 7, 9, 0]\n",
      "after insertion  2 :  [1, 3, 10, 5, -3, 7, 9, 0]\n",
      "after insertion  3 :  [1, 3, 5, 10, -3, 7, 9, 0]\n",
      "after insertion  4 :  [-3, 1, 3, 5, 10, 7, 9, 0]\n",
      "after insertion  5 :  [-3, 1, 3, 5, 7, 10, 9, 0]\n",
      "after insertion  6 :  [-3, 1, 3, 5, 7, 9, 10, 0]\n",
      "after insertion  7 :  [-3, 0, 1, 3, 5, 7, 9, 10]\n"
     ]
    },
    {
     "data": {
      "text/plain": [
       "[-3, 0, 1, 3, 5, 7, 9, 10]"
      ]
     },
     "execution_count": 3,
     "metadata": {},
     "output_type": "execute_result"
    }
   ],
   "source": [
    "s = [1, 10, 3, 5, -3, 7, 9, 0]\n",
    "insertion_sort(s)"
   ]
  },
  {
   "cell_type": "code",
   "execution_count": 4,
   "metadata": {},
   "outputs": [],
   "source": [
    "import numpy as np\n",
    "randarr = np.random.randint(1, 26, 10)"
   ]
  },
  {
   "cell_type": "code",
   "execution_count": 5,
   "metadata": {},
   "outputs": [
    {
     "data": {
      "text/plain": [
       "array([20,  5,  3, 25, 22,  5, 22,  5, 15,  2])"
      ]
     },
     "execution_count": 5,
     "metadata": {},
     "output_type": "execute_result"
    }
   ],
   "source": [
    "randarr"
   ]
  },
  {
   "cell_type": "code",
   "execution_count": 6,
   "metadata": {},
   "outputs": [
    {
     "name": "stdout",
     "output_type": "stream",
     "text": [
      "in:   [14  6]\n",
      "after insertion  1 :  [ 6 14]\n",
      "out:  [ 6 14]\n",
      "in:   [13 13 13]\n",
      "after insertion  1 :  [13 13 13]\n",
      "after insertion  2 :  [13 13 13]\n",
      "out:  [13 13 13]\n",
      "in:   [ 3  9  8 16]\n",
      "after insertion  1 :  [ 3  9  8 16]\n",
      "after insertion  2 :  [ 3  8  9 16]\n",
      "after insertion  3 :  [ 3  8  9 16]\n",
      "out:  [ 3  8  9 16]\n",
      "in:   [ 8 17 14  3  9]\n",
      "after insertion  1 :  [ 8 17 14  3  9]\n",
      "after insertion  2 :  [ 8 14 17  3  9]\n",
      "after insertion  3 :  [ 3  8 14 17  9]\n",
      "after insertion  4 :  [ 3  8  9 14 17]\n",
      "out:  [ 3  8  9 14 17]\n",
      "in:   [11 11  6 10 16 12]\n",
      "after insertion  1 :  [11 11  6 10 16 12]\n",
      "after insertion  2 :  [ 6 11 11 10 16 12]\n",
      "after insertion  3 :  [ 6 10 11 11 16 12]\n",
      "after insertion  4 :  [ 6 10 11 11 16 12]\n",
      "after insertion  5 :  [ 6 10 11 11 12 16]\n",
      "out:  [ 6 10 11 11 12 16]\n",
      "in:   [ 4  4 10 10 13 17 14]\n",
      "after insertion  1 :  [ 4  4 10 10 13 17 14]\n",
      "after insertion  2 :  [ 4  4 10 10 13 17 14]\n",
      "after insertion  3 :  [ 4  4 10 10 13 17 14]\n",
      "after insertion  4 :  [ 4  4 10 10 13 17 14]\n",
      "after insertion  5 :  [ 4  4 10 10 13 17 14]\n",
      "after insertion  6 :  [ 4  4 10 10 13 14 17]\n",
      "out:  [ 4  4 10 10 13 14 17]\n"
     ]
    }
   ],
   "source": [
    "for i in range (2, 8) :\n",
    "    randarr = np.random.randint(1, 20, i)\n",
    "    print(\"in:  \", randarr)\n",
    "    print(\"out: \", insertion_sort(randarr))"
   ]
  },
  {
   "cell_type": "code",
   "execution_count": 7,
   "metadata": {},
   "outputs": [
    {
     "name": "stdout",
     "output_type": "stream",
     "text": [
      "after insertion  1 :  [1, 2, 3, 10, -100]\n",
      "after insertion  2 :  [1, 2, 3, 10, -100]\n",
      "after insertion  3 :  [1, 2, 3, 10, -100]\n",
      "after insertion  4 :  [-100, 1, 2, 3, 10]\n"
     ]
    },
    {
     "data": {
      "text/plain": [
       "[-100, 1, 2, 3, 10]"
      ]
     },
     "execution_count": 7,
     "metadata": {},
     "output_type": "execute_result"
    }
   ],
   "source": [
    "insertion_sort([2, 1, 3, 10, -100])"
   ]
  },
  {
   "cell_type": "code",
   "execution_count": 8,
   "metadata": {},
   "outputs": [],
   "source": [
    "def merge(a, b) :\n",
    "    c = []\n",
    "    n1 = len(a)\n",
    "    n2 = len(b)\n",
    "    k1 = 0\n",
    "    k2 = 0\n",
    "    i = 0\n",
    "    # invariant: merged a[0..k1 - 1] with b[0..k2 - 2]\n",
    "    while k1 < n1 and k2 < n2 :\n",
    "        if a[k1] <= b[k2] :\n",
    "            c.append(a[k1])\n",
    "            k1 = k1 + 1\n",
    "        else :\n",
    "            c.append(b[k2])\n",
    "            k2 = k2 + 1\n",
    "    # k1 >= n1 or k2 >= n2\n",
    "    if k1 == n1 :\n",
    "        while k2 < n2 :\n",
    "            c.append(b[k2])\n",
    "            k2 = k2 + 1\n",
    "    if k2 == n2 :\n",
    "        while k1 < n1 :\n",
    "            c.append(a[k1])\n",
    "            k1 = k1 + 1\n",
    "    return c\n",
    "        \n",
    "def merge_sort(a) :\n",
    "    if len(a) == 1 : return a[0:1]\n",
    "    n = len(a)\n",
    "    a1 = a[0 : n // 2]\n",
    "    a2 = a[n // 2 : ]\n",
    "    return  merge(merge_sort(a1), merge_sort(a2))\n"
   ]
  },
  {
   "cell_type": "code",
   "execution_count": 9,
   "metadata": {},
   "outputs": [
    {
     "data": {
      "text/plain": [
       "[-11, -10, 1, 2, 3, 5, 7, 101, 1000, 10003]"
      ]
     },
     "execution_count": 9,
     "metadata": {},
     "output_type": "execute_result"
    }
   ],
   "source": [
    "merge([1, 2, 5, 101, 1000, 10003], [-11, -10, 3, 7])"
   ]
  },
  {
   "cell_type": "code",
   "execution_count": 10,
   "metadata": {},
   "outputs": [
    {
     "data": {
      "text/plain": [
       "[1, 3, 20, 30, 100]"
      ]
     },
     "execution_count": 10,
     "metadata": {},
     "output_type": "execute_result"
    }
   ],
   "source": [
    "merge_sort([3, 1, 20, 30, 100])"
   ]
  },
  {
   "cell_type": "code",
   "execution_count": 11,
   "metadata": {},
   "outputs": [
    {
     "name": "stdout",
     "output_type": "stream",
     "text": [
      "[0, 1, 4] [30, 7, 5]\n"
     ]
    }
   ],
   "source": [
    "s = [0, 1, 4, 30, 7, 5]\n",
    "a1 = s[0 : len(s) // 2]\n",
    "a2 = s[len(s) // 2 :]\n",
    "print(a1, a2)"
   ]
  },
  {
   "cell_type": "code",
   "execution_count": 12,
   "metadata": {},
   "outputs": [
    {
     "data": {
      "text/plain": [
       "[3, 4]"
      ]
     },
     "execution_count": 12,
     "metadata": {},
     "output_type": "execute_result"
    }
   ],
   "source": [
    "[1, 2, 3, 4][3//2 + 1 :]"
   ]
  },
  {
   "cell_type": "code",
   "execution_count": null,
   "metadata": {},
   "outputs": [],
   "source": []
  },
  {
   "cell_type": "code",
   "execution_count": 13,
   "metadata": {},
   "outputs": [
    {
     "name": "stdout",
     "output_type": "stream",
     "text": [
      "in:   [ 5 11]\n",
      "out:  [5, 11]\n",
      "in:   [4 8 2]\n",
      "out:  [2, 4, 8]\n",
      "in:   [10  5  6  1]\n",
      "out:  [1, 5, 6, 10]\n",
      "in:   [15  2 10  8 10]\n",
      "out:  [2, 8, 10, 10, 15]\n",
      "in:   [13  7  8  3 17 17]\n",
      "out:  [3, 7, 8, 13, 17, 17]\n",
      "in:   [ 6 10  6  2 19 18  2]\n",
      "out:  [2, 2, 6, 6, 10, 18, 19]\n"
     ]
    }
   ],
   "source": [
    "\n",
    "for i in range (2, 8) :\n",
    "    randarr = np.random.randint(1, 20, i)\n",
    "    print(\"in:  \", randarr)\n",
    "    print(\"out: \", merge_sort(randarr))"
   ]
  },
  {
   "cell_type": "code",
   "execution_count": 14,
   "metadata": {},
   "outputs": [],
   "source": [
    "def quicksort(s) :\n",
    "    if len(s) <= 1 : return s\n",
    "    p = s[len(s) // 2]\n",
    "    a = []\n",
    "    b = []\n",
    "    c = []\n",
    "    for i in range(0, len(s)) :\n",
    "        if s[i] < p : a.append(s[i])\n",
    "    for i in range(0, len(s)) :\n",
    "        if s[i] == p : b.append(s[i])\n",
    "    for i in range(0, len(s)) :\n",
    "        if s[i] > p : c.append(s[i])\n",
    "    return quicksort(a) + b + quicksort(c)\n"
   ]
  },
  {
   "cell_type": "code",
   "execution_count": 15,
   "metadata": {},
   "outputs": [
    {
     "name": "stdout",
     "output_type": "stream",
     "text": [
      "in:   [ 6 11]\n",
      "out:  [6, 11]\n",
      "in:   [ 7  6 15]\n",
      "out:  [6, 7, 15]\n",
      "in:   [ 1  5 14 18]\n",
      "out:  [1, 5, 14, 18]\n",
      "in:   [10 11 15  8 16]\n",
      "out:  [8, 10, 11, 15, 16]\n",
      "in:   [13 18  8 11 17 15]\n",
      "out:  [8, 11, 13, 15, 17, 18]\n",
      "in:   [ 1  9 13 12 13 12  2]\n",
      "out:  [1, 2, 9, 12, 12, 13, 13]\n"
     ]
    }
   ],
   "source": [
    "for i in range (2, 8) :\n",
    "    randarr = np.random.randint(1, 20, i)\n",
    "    print(\"in:  \", randarr)\n",
    "    print(\"out: \", quicksort(randarr))"
   ]
  },
  {
   "cell_type": "code",
   "execution_count": 16,
   "metadata": {},
   "outputs": [
    {
     "data": {
      "text/plain": [
       "[-1, -1, 1, 1, 2, 2, 10]"
      ]
     },
     "execution_count": 16,
     "metadata": {},
     "output_type": "execute_result"
    }
   ],
   "source": [
    "quicksort([1, 1, 2, 2, 10, -1, -1])"
   ]
  },
  {
   "cell_type": "code",
   "execution_count": null,
   "metadata": {},
   "outputs": [],
   "source": [
    "    \n"
   ]
  },
  {
   "cell_type": "code",
   "execution_count": 17,
   "metadata": {},
   "outputs": [],
   "source": [
    "def find_min(a) :\n",
    "    N = len(a)\n",
    "    i = 1\n",
    "    min = a[0]\n",
    "    j = 0\n",
    "    # a[j] == min == min(a[0..i-1])\n",
    "    while (i < N) :\n",
    "        if a[i] < min :\n",
    "            min = a[i]\n",
    "            j = i\n",
    "        i = i + 1\n",
    "    return j\n",
    "\n",
    "def selection_sort(a) :\n",
    "    N = len(a)\n",
    "    j = 0\n",
    "    # sorted a[0..j-1] && a[0..j-1] <= a[j..N-1]\n",
    "    while (j < N) :\n",
    "        # find min a[j..N-1]\n",
    "        k = j\n",
    "        min = a[k]\n",
    "        i = j + 1\n",
    "        #a[k] == min == min(a[j .. i - 1])\n",
    "        while (i < N) :\n",
    "            if a[i] < min :\n",
    "                min = a[i]\n",
    "                k = i\n",
    "            i = i + 1\n",
    "        # k = j + find_min(a[j :])\n",
    "        a[j], a[k] = a[k], a[j]\n",
    "        j = j + 1\n",
    "    return a\n",
    "\n"
   ]
  },
  {
   "cell_type": "code",
   "execution_count": 18,
   "metadata": {},
   "outputs": [
    {
     "data": {
      "text/plain": [
       "0"
      ]
     },
     "execution_count": 18,
     "metadata": {},
     "output_type": "execute_result"
    }
   ],
   "source": [
    "find_min([-100, 1, -3, 10, 5, -99])"
   ]
  },
  {
   "cell_type": "code",
   "execution_count": 19,
   "metadata": {},
   "outputs": [
    {
     "data": {
      "text/plain": [
       "1"
      ]
     },
     "execution_count": 19,
     "metadata": {},
     "output_type": "execute_result"
    }
   ],
   "source": [
    "find_min([1, 2, -99, 10][1:])"
   ]
  },
  {
   "cell_type": "code",
   "execution_count": 20,
   "metadata": {},
   "outputs": [
    {
     "data": {
      "text/plain": [
       "[-99, -3, 1, 2, 10]"
      ]
     },
     "execution_count": 20,
     "metadata": {},
     "output_type": "execute_result"
    }
   ],
   "source": [
    "selection_sort([-99, 1, 2, -3, 10])"
   ]
  },
  {
   "cell_type": "code",
   "execution_count": 21,
   "metadata": {},
   "outputs": [
    {
     "name": "stdout",
     "output_type": "stream",
     "text": [
      "in:   [ 10 -22]\n",
      "out:  [-22  10]\n",
      "in:   [29 -7 34]\n",
      "out:  [-7 29 34]\n",
      "in:   [  5  44 -37 -25]\n",
      "out:  [-37 -25   5  44]\n",
      "in:   [ 22  -6 -39  47 -45]\n",
      "out:  [-45 -39  -6  22  47]\n",
      "in:   [ 32  10  16  35  49 -38]\n",
      "out:  [-38  10  16  32  35  49]\n",
      "in:   [-12 -16 -34  21  44 -49 -15]\n",
      "out:  [-49 -34 -16 -15 -12  21  44]\n"
     ]
    }
   ],
   "source": [
    "for i in range (2, 8) :\n",
    "    randarr = np.random.randint(-50, 50, i)\n",
    "    print(\"in:  \", randarr)\n",
    "    print(\"out: \", selection_sort(randarr))"
   ]
  },
  {
   "cell_type": "code",
   "execution_count": 22,
   "metadata": {},
   "outputs": [],
   "source": [
    "def bubble(a) :\n",
    "    N = len(a)\n",
    "    i = 0\n",
    "    # a[i] == max(a[0..i])\n",
    "    while i < N - 1:\n",
    "        if a[i] > a[i + 1] :\n",
    "            a[i], a[i+1] = a[i+1], a[i]\n",
    "        i = i + 1\n",
    "    # post-loop: i == N - 1\n",
    "    return a \n",
    "\n",
    "\n",
    "def bubble_sort(a) :\n",
    "    N = len(a)\n",
    "    j = N\n",
    "    swapped = False\n",
    "    while True : # emulate do while loop\n",
    "        # sorted a[j .. N - 1] and a[0..j-1] <= a[j .. N - 1] \n",
    "        while j > 0 :\n",
    "            i = 0\n",
    "            while i < j - 1 :\n",
    "                if a[i] > a[i + 1] :\n",
    "                    a[i], a[i + 1] = a[i + 1], a[i]\n",
    "                i = i + 1\n",
    "            j = j - 1\n",
    "        if not swapped : break # if no swaps performed at all, array already\n",
    "                               # sorted \n",
    "    return a\n"
   ]
  },
  {
   "cell_type": "code",
   "execution_count": 23,
   "metadata": {},
   "outputs": [
    {
     "data": {
      "text/plain": [
       "[-5, 1, 2, 3, 4]"
      ]
     },
     "execution_count": 23,
     "metadata": {},
     "output_type": "execute_result"
    }
   ],
   "source": [
    "bubble_sort([1, 2, 3, 4, -5])"
   ]
  },
  {
   "cell_type": "code",
   "execution_count": 24,
   "metadata": {},
   "outputs": [
    {
     "name": "stdout",
     "output_type": "stream",
     "text": [
      "in:   [ 35 -19]\n",
      "out:  [-19  35]\n",
      "in:   [-35   4 -22]\n",
      "out:  [-35 -22   4]\n",
      "in:   [ 5 42 15 23]\n",
      "out:  [ 5 15 23 42]\n",
      "in:   [ 20  10   9  46 -38]\n",
      "out:  [-38   9  10  20  46]\n",
      "in:   [-16 -15  36  36  25   5]\n",
      "out:  [-16 -15   5  25  36  36]\n",
      "in:   [ 40   3 -26 -44   5  -8 -22]\n",
      "out:  [-44 -26 -22  -8   3   5  40]\n"
     ]
    }
   ],
   "source": [
    "for i in range (2, 8) :\n",
    "    randarr = np.random.randint(-50, 50, i)\n",
    "    print(\"in:  \", randarr)\n",
    "    print(\"out: \", bubble_sort(randarr))"
   ]
  },
  {
   "cell_type": "code",
   "execution_count": 27,
   "metadata": {},
   "outputs": [],
   "source": [
    "def qSort(a, l, r) :\n",
    "    if l == r + 1 : return a\n",
    "    p = a[l] # choose simply first element as pivot\n",
    "    i = l\n",
    "    j = r\n",
    "    while True : # do while loop in python\n",
    "        while a[i] < p : i = i + 1\n",
    "        while a[j] > p : j = j - 1\n",
    "        if i <= j :\n",
    "            a[i], a[j] = a[j], a[i]\n",
    "            i = i + 1\n",
    "            j = j - 1\n",
    "        if i > j : break\n",
    "    qSort(a, l, j)\n",
    "    qSort(a, r, i)\n",
    "    return a\n",
    "        \n",
    "    \n",
    " "
   ]
  },
  {
   "cell_type": "code",
   "execution_count": 29,
   "metadata": {},
   "outputs": [
    {
     "ename": "IndexError",
     "evalue": "list index out of range",
     "output_type": "error",
     "traceback": [
      "\u001b[0;31m---------------------------------------------------------------------------\u001b[0m",
      "\u001b[0;31mIndexError\u001b[0m                                Traceback (most recent call last)",
      "Cell \u001b[0;32mIn[29], line 2\u001b[0m\n\u001b[1;32m      1\u001b[0m a \u001b[38;5;241m=\u001b[39m [\u001b[38;5;241m3\u001b[39m,\u001b[38;5;241m6\u001b[39m, \u001b[38;5;241m8\u001b[39m, \u001b[38;5;241m1\u001b[39m, \u001b[38;5;241m0\u001b[39m, \u001b[38;5;241m7\u001b[39m, \u001b[38;5;241m2\u001b[39m, \u001b[38;5;241m4\u001b[39m, \u001b[38;5;241m5\u001b[39m, \u001b[38;5;241m9\u001b[39m]\n\u001b[0;32m----> 2\u001b[0m \u001b[43mqSort\u001b[49m\u001b[43m(\u001b[49m\u001b[43ma\u001b[49m\u001b[43m,\u001b[49m\u001b[43m \u001b[49m\u001b[38;5;241;43m0\u001b[39;49m\u001b[43m,\u001b[49m\u001b[43m \u001b[49m\u001b[38;5;28;43mlen\u001b[39;49m\u001b[43m(\u001b[49m\u001b[43ma\u001b[49m\u001b[43m)\u001b[49m\u001b[43m \u001b[49m\u001b[38;5;241;43m-\u001b[39;49m\u001b[43m \u001b[49m\u001b[38;5;241;43m1\u001b[39;49m\u001b[43m)\u001b[49m\n",
      "Cell \u001b[0;32mIn[27], line 14\u001b[0m, in \u001b[0;36mqSort\u001b[0;34m(a, l, r)\u001b[0m\n\u001b[1;32m     12\u001b[0m         j \u001b[38;5;241m=\u001b[39m j \u001b[38;5;241m-\u001b[39m \u001b[38;5;241m1\u001b[39m\n\u001b[1;32m     13\u001b[0m     \u001b[38;5;28;01mif\u001b[39;00m i \u001b[38;5;241m>\u001b[39m j : \u001b[38;5;28;01mbreak\u001b[39;00m\n\u001b[0;32m---> 14\u001b[0m \u001b[43mqSort\u001b[49m\u001b[43m(\u001b[49m\u001b[43ma\u001b[49m\u001b[43m,\u001b[49m\u001b[43m \u001b[49m\u001b[43ml\u001b[49m\u001b[43m,\u001b[49m\u001b[43m \u001b[49m\u001b[43mj\u001b[49m\u001b[43m)\u001b[49m\n\u001b[1;32m     15\u001b[0m qSort(a, r, i)\n\u001b[1;32m     16\u001b[0m \u001b[38;5;28;01mreturn\u001b[39;00m a\n",
      "Cell \u001b[0;32mIn[27], line 14\u001b[0m, in \u001b[0;36mqSort\u001b[0;34m(a, l, r)\u001b[0m\n\u001b[1;32m     12\u001b[0m         j \u001b[38;5;241m=\u001b[39m j \u001b[38;5;241m-\u001b[39m \u001b[38;5;241m1\u001b[39m\n\u001b[1;32m     13\u001b[0m     \u001b[38;5;28;01mif\u001b[39;00m i \u001b[38;5;241m>\u001b[39m j : \u001b[38;5;28;01mbreak\u001b[39;00m\n\u001b[0;32m---> 14\u001b[0m \u001b[43mqSort\u001b[49m\u001b[43m(\u001b[49m\u001b[43ma\u001b[49m\u001b[43m,\u001b[49m\u001b[43m \u001b[49m\u001b[43ml\u001b[49m\u001b[43m,\u001b[49m\u001b[43m \u001b[49m\u001b[43mj\u001b[49m\u001b[43m)\u001b[49m\n\u001b[1;32m     15\u001b[0m qSort(a, r, i)\n\u001b[1;32m     16\u001b[0m \u001b[38;5;28;01mreturn\u001b[39;00m a\n",
      "    \u001b[0;31m[... skipping similar frames: qSort at line 14 (1 times)]\u001b[0m\n",
      "Cell \u001b[0;32mIn[27], line 15\u001b[0m, in \u001b[0;36mqSort\u001b[0;34m(a, l, r)\u001b[0m\n\u001b[1;32m     13\u001b[0m     \u001b[38;5;28;01mif\u001b[39;00m i \u001b[38;5;241m>\u001b[39m j : \u001b[38;5;28;01mbreak\u001b[39;00m\n\u001b[1;32m     14\u001b[0m qSort(a, l, j)\n\u001b[0;32m---> 15\u001b[0m \u001b[43mqSort\u001b[49m\u001b[43m(\u001b[49m\u001b[43ma\u001b[49m\u001b[43m,\u001b[49m\u001b[43m \u001b[49m\u001b[43mr\u001b[49m\u001b[43m,\u001b[49m\u001b[43m \u001b[49m\u001b[43mi\u001b[49m\u001b[43m)\u001b[49m\n\u001b[1;32m     16\u001b[0m \u001b[38;5;28;01mreturn\u001b[39;00m a\n",
      "Cell \u001b[0;32mIn[27], line 15\u001b[0m, in \u001b[0;36mqSort\u001b[0;34m(a, l, r)\u001b[0m\n\u001b[1;32m     13\u001b[0m     \u001b[38;5;28;01mif\u001b[39;00m i \u001b[38;5;241m>\u001b[39m j : \u001b[38;5;28;01mbreak\u001b[39;00m\n\u001b[1;32m     14\u001b[0m qSort(a, l, j)\n\u001b[0;32m---> 15\u001b[0m \u001b[43mqSort\u001b[49m\u001b[43m(\u001b[49m\u001b[43ma\u001b[49m\u001b[43m,\u001b[49m\u001b[43m \u001b[49m\u001b[43mr\u001b[49m\u001b[43m,\u001b[49m\u001b[43m \u001b[49m\u001b[43mi\u001b[49m\u001b[43m)\u001b[49m\n\u001b[1;32m     16\u001b[0m \u001b[38;5;28;01mreturn\u001b[39;00m a\n",
      "    \u001b[0;31m[... skipping similar frames: qSort at line 15 (17 times), qSort at line 14 (4 times)]\u001b[0m\n",
      "Cell \u001b[0;32mIn[27], line 14\u001b[0m, in \u001b[0;36mqSort\u001b[0;34m(a, l, r)\u001b[0m\n\u001b[1;32m     12\u001b[0m         j \u001b[38;5;241m=\u001b[39m j \u001b[38;5;241m-\u001b[39m \u001b[38;5;241m1\u001b[39m\n\u001b[1;32m     13\u001b[0m     \u001b[38;5;28;01mif\u001b[39;00m i \u001b[38;5;241m>\u001b[39m j : \u001b[38;5;28;01mbreak\u001b[39;00m\n\u001b[0;32m---> 14\u001b[0m \u001b[43mqSort\u001b[49m\u001b[43m(\u001b[49m\u001b[43ma\u001b[49m\u001b[43m,\u001b[49m\u001b[43m \u001b[49m\u001b[43ml\u001b[49m\u001b[43m,\u001b[49m\u001b[43m \u001b[49m\u001b[43mj\u001b[49m\u001b[43m)\u001b[49m\n\u001b[1;32m     15\u001b[0m qSort(a, r, i)\n\u001b[1;32m     16\u001b[0m \u001b[38;5;28;01mreturn\u001b[39;00m a\n",
      "    \u001b[0;31m[... skipping similar frames: qSort at line 15 (4 times)]\u001b[0m\n",
      "Cell \u001b[0;32mIn[27], line 15\u001b[0m, in \u001b[0;36mqSort\u001b[0;34m(a, l, r)\u001b[0m\n\u001b[1;32m     13\u001b[0m     \u001b[38;5;28;01mif\u001b[39;00m i \u001b[38;5;241m>\u001b[39m j : \u001b[38;5;28;01mbreak\u001b[39;00m\n\u001b[1;32m     14\u001b[0m qSort(a, l, j)\n\u001b[0;32m---> 15\u001b[0m \u001b[43mqSort\u001b[49m\u001b[43m(\u001b[49m\u001b[43ma\u001b[49m\u001b[43m,\u001b[49m\u001b[43m \u001b[49m\u001b[43mr\u001b[49m\u001b[43m,\u001b[49m\u001b[43m \u001b[49m\u001b[43mi\u001b[49m\u001b[43m)\u001b[49m\n\u001b[1;32m     16\u001b[0m \u001b[38;5;28;01mreturn\u001b[39;00m a\n",
      "Cell \u001b[0;32mIn[27], line 8\u001b[0m, in \u001b[0;36mqSort\u001b[0;34m(a, l, r)\u001b[0m\n\u001b[1;32m      6\u001b[0m \u001b[38;5;28;01mwhile\u001b[39;00m \u001b[38;5;28;01mTrue\u001b[39;00m : \u001b[38;5;66;03m# do while loop in python\u001b[39;00m\n\u001b[1;32m      7\u001b[0m     \u001b[38;5;28;01mwhile\u001b[39;00m a[i] \u001b[38;5;241m<\u001b[39m p : i \u001b[38;5;241m=\u001b[39m i \u001b[38;5;241m+\u001b[39m \u001b[38;5;241m1\u001b[39m\n\u001b[0;32m----> 8\u001b[0m     \u001b[38;5;28;01mwhile\u001b[39;00m \u001b[43ma\u001b[49m\u001b[43m[\u001b[49m\u001b[43mj\u001b[49m\u001b[43m]\u001b[49m \u001b[38;5;241m>\u001b[39m p : j \u001b[38;5;241m=\u001b[39m j \u001b[38;5;241m-\u001b[39m \u001b[38;5;241m1\u001b[39m\n\u001b[1;32m      9\u001b[0m     \u001b[38;5;28;01mif\u001b[39;00m i \u001b[38;5;241m<\u001b[39m\u001b[38;5;241m=\u001b[39m j :\n\u001b[1;32m     10\u001b[0m         a[i], a[j] \u001b[38;5;241m=\u001b[39m a[j], a[i]\n",
      "\u001b[0;31mIndexError\u001b[0m: list index out of range"
     ]
    }
   ],
   "source": [
    "a = [3,6, 8, 1, 0, 7, 2, 4, 5, 9]\n",
    "qSort(a, 0, len(a) - 1)"
   ]
  },
  {
   "cell_type": "code",
   "execution_count": 85,
   "metadata": {},
   "outputs": [],
   "source": [
    "# sorts keys in range [0, 10)\n",
    "def KSort(s, key) :\n",
    "    # initialize orray of length 100 with empty buckets\n",
    "    b = []\n",
    "    for i in range(10) : b.append([])\n",
    "\n",
    "    # place elements in buckets\n",
    "    for el in s : b[key(el)].append(el)\n",
    "    \n",
    "    # print state of buckets:\n",
    "    for i in range(10) :\n",
    "        print(\"bucket\", i, \": \", list(map(str, b[i])))\n",
    "    # array holding results\n",
    "    res = []\n",
    "\n",
    "    # append elements in buckets to res\n",
    "    for i in range(10) :\n",
    "        for el in b[i] : res.append(el)\n",
    "    return res\n",
    "\n",
    "def LSDRadixSort(a) :\n",
    "    for i in range(4) :\n",
    "        print(\"d ==\", i)\n",
    "        a = KSort(a, lambda x : (x // 10**i) % 10)\n",
    "        print(\"\")\n",
    "    return a\n"
   ]
  },
  {
   "cell_type": "code",
   "execution_count": 86,
   "metadata": {},
   "outputs": [
    {
     "name": "stdout",
     "output_type": "stream",
     "text": [
      "d == 0\n",
      "bucket 0 :  []\n",
      "bucket 1 :  ['1', '201']\n",
      "bucket 2 :  []\n",
      "bucket 3 :  []\n",
      "bucket 4 :  ['1004']\n",
      "bucket 5 :  ['315', '2005']\n",
      "bucket 6 :  ['156']\n",
      "bucket 7 :  []\n",
      "bucket 8 :  []\n",
      "bucket 9 :  ['9']\n",
      "\n",
      "d == 1\n",
      "bucket 0 :  ['1', '201', '1004', '2005', '9']\n",
      "bucket 1 :  ['315']\n",
      "bucket 2 :  []\n",
      "bucket 3 :  []\n",
      "bucket 4 :  []\n",
      "bucket 5 :  ['156']\n",
      "bucket 6 :  []\n",
      "bucket 7 :  []\n",
      "bucket 8 :  []\n",
      "bucket 9 :  []\n",
      "\n",
      "d == 2\n",
      "bucket 0 :  ['1', '1004', '2005', '9']\n",
      "bucket 1 :  ['156']\n",
      "bucket 2 :  ['201']\n",
      "bucket 3 :  ['315']\n",
      "bucket 4 :  []\n",
      "bucket 5 :  []\n",
      "bucket 6 :  []\n",
      "bucket 7 :  []\n",
      "bucket 8 :  []\n",
      "bucket 9 :  []\n",
      "\n",
      "d == 3\n",
      "bucket 0 :  ['1', '9', '156', '201', '315']\n",
      "bucket 1 :  ['1004']\n",
      "bucket 2 :  ['2005']\n",
      "bucket 3 :  []\n",
      "bucket 4 :  []\n",
      "bucket 5 :  []\n",
      "bucket 6 :  []\n",
      "bucket 7 :  []\n",
      "bucket 8 :  []\n",
      "bucket 9 :  []\n",
      "\n",
      "[1, 9, 156, 201, 315, 1004, 2005]\n"
     ]
    }
   ],
   "source": [
    "a = [1, 201, 1004, 315, 9, 156, 2005]\n",
    "print(LSDRadixSort(a))\n",
    "\n",
    "# a = KSort(a, lambda x : (x // 10**0) % 10)\n",
    "# print(a)\n",
    "# a = KSort(a, lambda x : (x // 10**1) % 10)\n",
    "# print(a)\n",
    "# a = KSort(a, lambda x : (x // 10**2) % 10)\n",
    "# print(a)\n",
    "# a = KSort(a, lambda x : (x // 10**3) % 10)\n",
    "# print(a)\n",
    "\n",
    "# randarr = np.random.randint(0, 10**5, 20)\n",
    "# print(LSDRadixSort(randarr))\n",
    "\n",
    "# for i in range(5, 10) :\n",
    "#     randarr = np.random.randint(0, 10**5, i)\n",
    "#     print(\"input: \", randarr)\n",
    "#     print(\"output: \", LSDRadixSort(randarr))\n"
   ]
  },
  {
   "cell_type": "code",
   "execution_count": 15,
   "metadata": {},
   "outputs": [
    {
     "name": "stdout",
     "output_type": "stream",
     "text": [
      "in:   [5 2]\n",
      "out:  [2, 5]\n",
      "in:   [4 8 5]\n",
      "out:  [4, 5, 8]\n",
      "in:   [0 5 5 6]\n",
      "out:  [0, 5, 5, 6]\n",
      "in:   [5 2 0 6 0]\n",
      "out:  [0, 0, 2, 5, 6]\n",
      "in:   [4 6 6 2 2 2]\n",
      "out:  [2, 2, 2, 4, 6, 6]\n",
      "in:   [4 4 2 1 2 5 4]\n",
      "out:  [1, 2, 2, 4, 4, 4, 5]\n",
      "in:   [1 9 6 6 0 2 1 9]\n",
      "out:  [0, 1, 1, 2, 6, 6, 9, 9]\n",
      "in:   [9 8 6 0 3 1 4 7 4]\n",
      "out:  [0, 1, 3, 4, 4, 6, 7, 8, 9]\n"
     ]
    }
   ],
   "source": [
    "\n",
    "for i in range (2, 10) :\n",
    "    randarr = np.random.randint(0, 10, i)\n",
    "    print(\"in:  \", randarr)\n",
    "    print(\"out: \", KSort(randarr, lambda x : x))"
   ]
  },
  {
   "cell_type": "code",
   "execution_count": 72,
   "metadata": {},
   "outputs": [
    {
     "data": {
      "text/plain": [
       "[1, 9]"
      ]
     },
     "execution_count": 72,
     "metadata": {},
     "output_type": "execute_result"
    }
   ],
   "source": [
    "a = [37, 1, 63, 43, 69, 94, 9, 75, 99, 11]\n",
    "KSort(a)"
   ]
  },
  {
   "cell_type": "code",
   "execution_count": 79,
   "metadata": {},
   "outputs": [
    {
     "data": {
      "text/plain": [
       "[1, 2, 2, 3]"
      ]
     },
     "execution_count": 79,
     "metadata": {},
     "output_type": "execute_result"
    }
   ],
   "source": [
    "a = [2, 1, 3, 2]\n",
    "KSort(a)"
   ]
  },
  {
   "cell_type": "code",
   "execution_count": 85,
   "metadata": {},
   "outputs": [
    {
     "name": "stdout",
     "output_type": "stream",
     "text": [
      "0\n",
      "1\n",
      "2\n",
      "6\n",
      "24\n",
      "120\n",
      "720\n",
      "5040\n",
      "40320\n",
      "362880\n"
     ]
    }
   ],
   "source": [
    "def fac(n) :\n",
    "    i = n\n",
    "    if i == 0 : return 0;\n",
    "    # i >= 1\n",
    "    res = 1\n",
    "    # res * fac(i) == fac(n) <=> res * i * fac(i - 1) == fac(n)\n",
    "    while i > 1 :\n",
    "        res = res * i\n",
    "        i = i - 1\n",
    "    # i == 1 => res * 1 == fac(n)\n",
    "    return res\n",
    "\n",
    "fac(5)\n",
    "\n",
    "for i in range (10) : print(fac(i))"
   ]
  },
  {
   "cell_type": "code",
   "execution_count": 92,
   "metadata": {},
   "outputs": [
    {
     "name": "stdout",
     "output_type": "stream",
     "text": [
      "x:  1423 , digit sum:  10\n",
      "x:  2 , digit sum:  2\n",
      "x:  925 , digit sum:  16\n",
      "x:  4772 , digit sum:  20\n",
      "x:  1928 , digit sum:  20\n",
      "x:  1230 , digit sum:  6\n",
      "x:  899 , digit sum:  26\n",
      "x:  9052 , digit sum:  16\n",
      "x:  6205 , digit sum:  13\n",
      "x:  2929 , digit sum:  22\n"
     ]
    }
   ],
   "source": [
    "def sum_dig(x) :\n",
    "    # initially: x == X\n",
    "    res = 0\n",
    "    # invariant: res + sumdig(x) == sumdig(X)\n",
    "    while x > 0 :\n",
    "        res = res + x % 10\n",
    "        x = x // 10\n",
    "    # x == 0\n",
    "    return res\n",
    "\n",
    "randarr = np.random.randint(0, 10000, 10)\n",
    "for x in randarr : \n",
    "    print(\"x: \", x, \", digit sum: \", sum_dig(x))\n",
    "\n"
   ]
  },
  {
   "cell_type": "code",
   "execution_count": 87,
   "metadata": {},
   "outputs": [
    {
     "data": {
      "text/plain": [
       "22"
      ]
     },
     "execution_count": 87,
     "metadata": {},
     "output_type": "execute_result"
    }
   ],
   "source": [
    "221 "
   ]
  },
  {
   "cell_type": "code",
   "execution_count": 4,
   "metadata": {},
   "outputs": [
    {
     "name": "stdout",
     "output_type": "stream",
     "text": [
      "x:  7982 , digit sum:  26\n",
      "x:  900 , digit sum:  9\n",
      "x:  4400 , digit sum:  8\n",
      "x:  4143 , digit sum:  12\n",
      "x:  1841 , digit sum:  14\n",
      "x:  6602 , digit sum:  14\n",
      "x:  212 , digit sum:  5\n",
      "x:  4295 , digit sum:  20\n",
      "x:  7490 , digit sum:  20\n",
      "x:  1275 , digit sum:  15\n"
     ]
    }
   ],
   "source": [
    "def sum_dig_rec(x) :\n",
    "    if x == 0 : return 0\n",
    "    return x % 10 + sum_dig_rec(x // 10)\n",
    "\n",
    "\n",
    "import numpy as np\n",
    "randarr = np.random.randint(0, 10000, 10)\n",
    "for x in randarr : \n",
    "    print(\"x: \", x, \", digit sum: \", sum_dig_rec(x))"
   ]
  },
  {
   "cell_type": "code",
   "execution_count": 31,
   "metadata": {},
   "outputs": [
    {
     "data": {
      "text/plain": [
       "15"
      ]
     },
     "execution_count": 31,
     "metadata": {},
     "output_type": "execute_result"
    }
   ],
   "source": [
    "(lambda a : a + 5)(10)"
   ]
  },
  {
   "cell_type": "code",
   "execution_count": 115,
   "metadata": {},
   "outputs": [
    {
     "data": {
      "text/plain": [
       "['300', '62', '661', '1353', '63', '1546']"
      ]
     },
     "execution_count": 115,
     "metadata": {},
     "output_type": "execute_result"
    }
   ],
   "source": [
    "def convert(x, base) :\n",
    "    s = []\n",
    "    while (x > 0) :\n",
    "        s.insert(0, str(x % base))\n",
    "        x = x // base\n",
    "    return \"\".join(s)\n",
    "\n",
    "A = [147, 44, 337, 528, 45, 622]\n",
    "[convert(x, 7) for x in A]"
   ]
  },
  {
   "cell_type": "code",
   "execution_count": 116,
   "metadata": {},
   "outputs": [
    {
     "name": "stdout",
     "output_type": "stream",
     "text": [
      "d ==  0\n",
      "bucket  0 :  ['300']\n",
      "bucket  1 :  ['661']\n",
      "bucket  2 :  ['62']\n",
      "bucket  3 :  ['1353', '63']\n",
      "bucket  4 :  []\n",
      "bucket  5 :  []\n",
      "bucket  6 :  ['1546']\n",
      "\n",
      "d ==  1\n",
      "bucket  0 :  ['300']\n",
      "bucket  1 :  []\n",
      "bucket  2 :  []\n",
      "bucket  3 :  []\n",
      "bucket  4 :  ['1546']\n",
      "bucket  5 :  ['1353']\n",
      "bucket  6 :  ['661', '62', '63']\n",
      "\n",
      "d ==  2\n",
      "bucket  0 :  ['62', '63']\n",
      "bucket  1 :  []\n",
      "bucket  2 :  []\n",
      "bucket  3 :  ['300', '1353']\n",
      "bucket  4 :  []\n",
      "bucket  5 :  ['1546']\n",
      "bucket  6 :  ['661']\n",
      "\n",
      "d ==  3\n",
      "bucket  0 :  ['62', '63', '300', '661']\n",
      "bucket  1 :  ['1353', '1546']\n",
      "bucket  2 :  []\n",
      "bucket  3 :  []\n",
      "bucket  4 :  []\n",
      "bucket  5 :  []\n",
      "bucket  6 :  []\n",
      "\n"
     ]
    },
    {
     "data": {
      "text/plain": [
       "['62', '63', '300', '661', '1353', '1546']"
      ]
     },
     "execution_count": 116,
     "metadata": {},
     "output_type": "execute_result"
    }
   ],
   "source": [
    "\n",
    "# sorts keys in range [0, 7)\n",
    "def KSort7(s, key) :\n",
    "    # initialize orray of length 100 with empty buckets\n",
    "    b = []\n",
    "    for i in range(7) : b.append([])\n",
    "    # place elements in buckets\n",
    "    for el in s : b[key(el)].append(el)\n",
    "    # print state of the buckets\n",
    "    for i in range(7) :\n",
    "        print(\"bucket \", i, \": \", list(map(str, [convert(x, 7) for x in b[i]])))\n",
    "    # array holding results\n",
    "    res = []\n",
    "    # append elements in buckets to res\n",
    "    for i in range(7) :\n",
    "        for el in b[i] : res.append(el)\n",
    "    return res\n",
    "\n",
    "def LSDRadixSort7(a) :\n",
    "    for i in range(4) :\n",
    "        print(\"d == \", i)\n",
    "        a = KSort7(a, lambda x : (x // 7**i) % 7)\n",
    "        print(\"\")\n",
    "    return a\n",
    "\n",
    "[convert(x, 7) for x in LSDRadixSort7(A)]\n",
    "# print(\"result: \", [convert(x, 7) for x in LSDRadixSort7(A)])\n",
    "# KSort7(A, lambda x : (x // 7**0) % 7)\n",
    "# A = KSort7(A, lambda x : (x // 7**0) % 7)\n",
    "# A = KSort7(A, lambda x : (x // 7**1) % 7)\n",
    "# A = KSort7(A, lambda x : (x // 7**2) % 7)\n",
    "# A = KSort7(A, lambda x : (x // 7**3) % 7)"
   ]
  },
  {
   "cell_type": "code",
   "execution_count": 56,
   "metadata": {},
   "outputs": [
    {
     "name": "stdout",
     "output_type": "stream",
     "text": [
      "['1', '2', '3']\n"
     ]
    }
   ],
   "source": [
    "arr = [1, 2, 3]\n",
    "print(list(map(str, arr)))"
   ]
  }
 ],
 "metadata": {
  "kernelspec": {
   "display_name": "Python 3",
   "language": "python",
   "name": "python3"
  },
  "language_info": {
   "codemirror_mode": {
    "name": "ipython",
    "version": 3
   },
   "file_extension": ".py",
   "mimetype": "text/x-python",
   "name": "python",
   "nbconvert_exporter": "python",
   "pygments_lexer": "ipython3",
   "version": "3.10.12"
  }
 },
 "nbformat": 4,
 "nbformat_minor": 2
}
