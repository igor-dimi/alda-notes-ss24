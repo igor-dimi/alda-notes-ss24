{
 "cells": [
  {
   "cell_type": "code",
   "execution_count": 112,
   "metadata": {},
   "outputs": [],
   "source": [
    "def insertion_sort(a) :\n",
    "    n = len(a)\n",
    "    # i = 1\n",
    "    # sorted a[0..i-1]\n",
    "    for i in range(1, n) :\n",
    "        # insert i in the right position\n",
    "        j = i - 1\n",
    "        el = a[i]\n",
    "        while el < a[j] and j > 0 :\n",
    "            a[j + 1] = a[j]\n",
    "            j = j - 1\n",
    "        # el >= a[j] or j == 0\n",
    "        if el < a[j] : # j == 0\n",
    "            a[1] = a[0]\n",
    "            a[0] = el\n",
    "        else : # el >= a[j] \n",
    "            a[j + 1] = el\n",
    "        print(\"after insertion \", i, \": \", a)\n",
    "    return a"
   ]
  },
  {
   "cell_type": "code",
   "execution_count": 113,
   "metadata": {},
   "outputs": [
    {
     "name": "stdout",
     "output_type": "stream",
     "text": [
      "input:                [-2, 3, 10, -5, 13, 14, 20, -99]\n",
      "after insertion  1 :  [-2, 3, 10, -5, 13, 14, 20, -99]\n",
      "after insertion  2 :  [-2, 3, 10, -5, 13, 14, 20, -99]\n",
      "after insertion  3 :  [-5, -2, 3, 10, 13, 14, 20, -99]\n",
      "after insertion  4 :  [-5, -2, 3, 10, 13, 14, 20, -99]\n",
      "after insertion  5 :  [-5, -2, 3, 10, 13, 14, 20, -99]\n",
      "after insertion  6 :  [-5, -2, 3, 10, 13, 14, 20, -99]\n",
      "after insertion  7 :  [-99, -5, -2, 3, 10, 13, 14, 20]\n"
     ]
    },
    {
     "data": {
      "text/plain": [
       "[-99, -5, -2, 3, 10, 13, 14, 20]"
      ]
     },
     "execution_count": 113,
     "metadata": {},
     "output_type": "execute_result"
    }
   ],
   "source": [
    "s = [-2, 3, 10, -5, 13, 14, 20, -99]\n",
    "print(\"input:               \", s)\n",
    "insertion_sort(s)"
   ]
  },
  {
   "cell_type": "code",
   "execution_count": null,
   "metadata": {},
   "outputs": [],
   "source": []
  },
  {
   "cell_type": "code",
   "execution_count": 114,
   "metadata": {},
   "outputs": [
    {
     "name": "stdout",
     "output_type": "stream",
     "text": [
      "after insertion  1 :  [1, 10, 3, 5, -3, 7, 9, 0]\n",
      "after insertion  2 :  [1, 3, 10, 5, -3, 7, 9, 0]\n",
      "after insertion  3 :  [1, 3, 5, 10, -3, 7, 9, 0]\n",
      "after insertion  4 :  [-3, 1, 3, 5, 10, 7, 9, 0]\n",
      "after insertion  5 :  [-3, 1, 3, 5, 7, 10, 9, 0]\n",
      "after insertion  6 :  [-3, 1, 3, 5, 7, 9, 10, 0]\n",
      "after insertion  7 :  [-3, 0, 1, 3, 5, 7, 9, 10]\n"
     ]
    },
    {
     "data": {
      "text/plain": [
       "[-3, 0, 1, 3, 5, 7, 9, 10]"
      ]
     },
     "execution_count": 114,
     "metadata": {},
     "output_type": "execute_result"
    }
   ],
   "source": [
    "s = [1, 10, 3, 5, -3, 7, 9, 0]\n",
    "insertion_sort(s)"
   ]
  },
  {
   "cell_type": "code",
   "execution_count": 115,
   "metadata": {},
   "outputs": [],
   "source": [
    "import numpy as np\n",
    "randarr = np.random.randint(1, 26, 10)"
   ]
  },
  {
   "cell_type": "code",
   "execution_count": 116,
   "metadata": {},
   "outputs": [
    {
     "data": {
      "text/plain": [
       "array([23, 21, 21, 12, 14, 13,  3,  7,  5, 23])"
      ]
     },
     "execution_count": 116,
     "metadata": {},
     "output_type": "execute_result"
    }
   ],
   "source": [
    "randarr"
   ]
  },
  {
   "cell_type": "code",
   "execution_count": 117,
   "metadata": {},
   "outputs": [
    {
     "name": "stdout",
     "output_type": "stream",
     "text": [
      "in:   [1 4]\n",
      "after insertion  1 :  [1 4]\n",
      "out:  [1 4]\n",
      "in:   [11 10 19]\n",
      "after insertion  1 :  [10 11 19]\n",
      "after insertion  2 :  [10 11 19]\n",
      "out:  [10 11 19]\n",
      "in:   [15  8  4 15]\n",
      "after insertion  1 :  [ 8 15  4 15]\n",
      "after insertion  2 :  [ 4  8 15 15]\n",
      "after insertion  3 :  [ 4  8 15 15]\n",
      "out:  [ 4  8 15 15]\n",
      "in:   [ 2  6 13  7 14]\n",
      "after insertion  1 :  [ 2  6 13  7 14]\n",
      "after insertion  2 :  [ 2  6 13  7 14]\n",
      "after insertion  3 :  [ 2  6  7 13 14]\n",
      "after insertion  4 :  [ 2  6  7 13 14]\n",
      "out:  [ 2  6  7 13 14]\n",
      "in:   [ 8 17 10 16 16 17]\n",
      "after insertion  1 :  [ 8 17 10 16 16 17]\n",
      "after insertion  2 :  [ 8 10 17 16 16 17]\n",
      "after insertion  3 :  [ 8 10 16 17 16 17]\n",
      "after insertion  4 :  [ 8 10 16 16 17 17]\n",
      "after insertion  5 :  [ 8 10 16 16 17 17]\n",
      "out:  [ 8 10 16 16 17 17]\n",
      "in:   [19 15 17 12 11 19  5]\n",
      "after insertion  1 :  [15 19 17 12 11 19  5]\n",
      "after insertion  2 :  [15 17 19 12 11 19  5]\n",
      "after insertion  3 :  [12 15 17 19 11 19  5]\n",
      "after insertion  4 :  [11 12 15 17 19 19  5]\n",
      "after insertion  5 :  [11 12 15 17 19 19  5]\n",
      "after insertion  6 :  [ 5 11 12 15 17 19 19]\n",
      "out:  [ 5 11 12 15 17 19 19]\n"
     ]
    }
   ],
   "source": [
    "for i in range (2, 8) :\n",
    "    randarr = np.random.randint(1, 20, i)\n",
    "    print(\"in:  \", randarr)\n",
    "    print(\"out: \", insertion_sort(randarr))"
   ]
  },
  {
   "cell_type": "code",
   "execution_count": 118,
   "metadata": {},
   "outputs": [
    {
     "name": "stdout",
     "output_type": "stream",
     "text": [
      "after insertion  1 :  [1, 2, 3, 10, -100]\n",
      "after insertion  2 :  [1, 2, 3, 10, -100]\n",
      "after insertion  3 :  [1, 2, 3, 10, -100]\n",
      "after insertion  4 :  [-100, 1, 2, 3, 10]\n"
     ]
    },
    {
     "data": {
      "text/plain": [
       "[-100, 1, 2, 3, 10]"
      ]
     },
     "execution_count": 118,
     "metadata": {},
     "output_type": "execute_result"
    }
   ],
   "source": [
    "insertion_sort([2, 1, 3, 10, -100])"
   ]
  },
  {
   "cell_type": "code",
   "execution_count": 119,
   "metadata": {},
   "outputs": [],
   "source": [
    "def merge(a, b) :\n",
    "    c = []\n",
    "    n1 = len(a)\n",
    "    n2 = len(b)\n",
    "    k1 = 0\n",
    "    k2 = 0\n",
    "    i = 0\n",
    "    # invariant: merged a[0..k1 - 1] with b[0..k2 - 2]\n",
    "    while k1 < n1 and k2 < n2 :\n",
    "        if a[k1] <= b[k2] :\n",
    "            c.append(a[k1])\n",
    "            k1 = k1 + 1\n",
    "        else :\n",
    "            c.append(b[k2])\n",
    "            k2 = k2 + 1\n",
    "    # k1 >= n1 or k2 >= n2\n",
    "    if k1 == n1 :\n",
    "        while k2 < n2 :\n",
    "            c.append(b[k2])\n",
    "            k2 = k2 + 1\n",
    "    if k2 == n2 :\n",
    "        while k1 < n1 :\n",
    "            c.append(a[k1])\n",
    "            k1 = k1 + 1\n",
    "    return c\n",
    "        \n",
    "def merge_sort(a) :\n",
    "    if len(a) == 1 : return a[0:1]\n",
    "    n = len(a)\n",
    "    a1 = a[0 : n // 2]\n",
    "    a2 = a[n // 2 : ]\n",
    "    return  merge(merge_sort(a1), merge_sort(a2))\n"
   ]
  },
  {
   "cell_type": "code",
   "execution_count": 120,
   "metadata": {},
   "outputs": [
    {
     "data": {
      "text/plain": [
       "[-11, -10, 1, 2, 3, 5, 7, 101, 1000, 10003]"
      ]
     },
     "execution_count": 120,
     "metadata": {},
     "output_type": "execute_result"
    }
   ],
   "source": [
    "merge([1, 2, 5, 101, 1000, 10003], [-11, -10, 3, 7])"
   ]
  },
  {
   "cell_type": "code",
   "execution_count": 121,
   "metadata": {},
   "outputs": [
    {
     "data": {
      "text/plain": [
       "[1, 3, 20, 30, 100]"
      ]
     },
     "execution_count": 121,
     "metadata": {},
     "output_type": "execute_result"
    }
   ],
   "source": [
    "merge_sort([3, 1, 20, 30, 100])"
   ]
  },
  {
   "cell_type": "code",
   "execution_count": 122,
   "metadata": {},
   "outputs": [
    {
     "name": "stdout",
     "output_type": "stream",
     "text": [
      "[0, 1, 4] [30, 7, 5]\n"
     ]
    }
   ],
   "source": [
    "s = [0, 1, 4, 30, 7, 5]\n",
    "a1 = s[0 : len(s) // 2]\n",
    "a2 = s[len(s) // 2 :]\n",
    "print(a1, a2)"
   ]
  },
  {
   "cell_type": "code",
   "execution_count": 123,
   "metadata": {},
   "outputs": [
    {
     "data": {
      "text/plain": [
       "[3, 4]"
      ]
     },
     "execution_count": 123,
     "metadata": {},
     "output_type": "execute_result"
    }
   ],
   "source": [
    "[1, 2, 3, 4][3//2 + 1 :]"
   ]
  },
  {
   "cell_type": "code",
   "execution_count": null,
   "metadata": {},
   "outputs": [],
   "source": []
  },
  {
   "cell_type": "code",
   "execution_count": 124,
   "metadata": {},
   "outputs": [
    {
     "name": "stdout",
     "output_type": "stream",
     "text": [
      "in:   [18  2]\n",
      "out:  [2, 18]\n",
      "in:   [ 3  8 15]\n",
      "out:  [3, 8, 15]\n",
      "in:   [18 17 15 12]\n",
      "out:  [12, 15, 17, 18]\n",
      "in:   [14  5 14  3 15]\n",
      "out:  [3, 5, 14, 14, 15]\n",
      "in:   [11 13  1 17  2  1]\n",
      "out:  [1, 1, 2, 11, 13, 17]\n",
      "in:   [19 15 19  5  6 17 14]\n",
      "out:  [5, 6, 14, 15, 17, 19, 19]\n"
     ]
    }
   ],
   "source": [
    "\n",
    "for i in range (2, 8) :\n",
    "    randarr = np.random.randint(1, 20, i)\n",
    "    print(\"in:  \", randarr)\n",
    "    print(\"out: \", merge_sort(randarr))"
   ]
  },
  {
   "cell_type": "code",
   "execution_count": 125,
   "metadata": {},
   "outputs": [],
   "source": [
    "def quicksort(s) :\n",
    "    if len(s) <= 1 : return s\n",
    "    p = s[len(s) // 2]\n",
    "    a = []\n",
    "    b = []\n",
    "    c = []\n",
    "    for i in range(0, len(s)) :\n",
    "        if s[i] < p : a.append(s[i])\n",
    "    for i in range(0, len(s)) :\n",
    "        if s[i] == p : b.append(s[i])\n",
    "    for i in range(0, len(s)) :\n",
    "        if s[i] > p : c.append(s[i])\n",
    "    return quicksort(a) + b + quicksort(c)\n"
   ]
  },
  {
   "cell_type": "code",
   "execution_count": 126,
   "metadata": {},
   "outputs": [
    {
     "name": "stdout",
     "output_type": "stream",
     "text": [
      "in:   [4 1]\n",
      "out:  [1, 4]\n",
      "in:   [ 3  6 16]\n",
      "out:  [3, 6, 16]\n",
      "in:   [ 6  7  2 18]\n",
      "out:  [2, 6, 7, 18]\n",
      "in:   [ 5 19  7  6  3]\n",
      "out:  [3, 5, 6, 7, 19]\n",
      "in:   [11  7 10 16  4 10]\n",
      "out:  [4, 7, 10, 10, 11, 16]\n",
      "in:   [11 14 14 14 19 17 12]\n",
      "out:  [11, 12, 14, 14, 14, 17, 19]\n"
     ]
    }
   ],
   "source": [
    "for i in range (2, 8) :\n",
    "    randarr = np.random.randint(1, 20, i)\n",
    "    print(\"in:  \", randarr)\n",
    "    print(\"out: \", quicksort(randarr))"
   ]
  },
  {
   "cell_type": "code",
   "execution_count": 127,
   "metadata": {},
   "outputs": [
    {
     "data": {
      "text/plain": [
       "[-1, -1, 1, 1, 2, 2, 10]"
      ]
     },
     "execution_count": 127,
     "metadata": {},
     "output_type": "execute_result"
    }
   ],
   "source": [
    "quicksort([1, 1, 2, 2, 10, -1, -1])"
   ]
  },
  {
   "cell_type": "code",
   "execution_count": null,
   "metadata": {},
   "outputs": [],
   "source": [
    "    \n"
   ]
  },
  {
   "cell_type": "code",
   "execution_count": 135,
   "metadata": {},
   "outputs": [],
   "source": [
    "def find_min(a) :\n",
    "    N = len(a)\n",
    "    i = 1\n",
    "    min = a[0]\n",
    "    j = 0\n",
    "    # a[j] == min == min(a[0..i-1])\n",
    "    while (i < N) :\n",
    "        if a[i] < min :\n",
    "            min = a[i]\n",
    "            j = i\n",
    "        i = i + 1\n",
    "    return j\n",
    "\n",
    "def selection_sort(a) :\n",
    "    N = len(a)\n",
    "    j = 0\n",
    "    # sorted a[0..j-1] && a[0..j-1] <= a[j..N-1]\n",
    "    while (j < N) :\n",
    "        # find min a[j..N-1]\n",
    "        k = j\n",
    "        min = a[k]\n",
    "        i = j + 1\n",
    "        #a[k] == min == min(a[j .. i - 1])\n",
    "        while (i < N) :\n",
    "            if a[i] < min :\n",
    "                min = a[i]\n",
    "                k = i\n",
    "            i = i + 1\n",
    "        # k = j + find_min(a[j :])\n",
    "        a[j], a[k] = a[k], a[j]\n",
    "        j = j + 1\n",
    "    return a\n",
    "\n"
   ]
  },
  {
   "cell_type": "code",
   "execution_count": 129,
   "metadata": {},
   "outputs": [
    {
     "data": {
      "text/plain": [
       "0"
      ]
     },
     "execution_count": 129,
     "metadata": {},
     "output_type": "execute_result"
    }
   ],
   "source": [
    "find_min([-100, 1, -3, 10, 5, -99])"
   ]
  },
  {
   "cell_type": "code",
   "execution_count": 60,
   "metadata": {},
   "outputs": [
    {
     "data": {
      "text/plain": [
       "(1, -99)"
      ]
     },
     "execution_count": 60,
     "metadata": {},
     "output_type": "execute_result"
    }
   ],
   "source": [
    "find_min([1, 2, -99, 10][1:])"
   ]
  },
  {
   "cell_type": "code",
   "execution_count": 140,
   "metadata": {},
   "outputs": [
    {
     "data": {
      "text/plain": [
       "[-99, -3, 1, 2, 10]"
      ]
     },
     "execution_count": 140,
     "metadata": {},
     "output_type": "execute_result"
    }
   ],
   "source": [
    "selection_sort([-99, 1, 2, -3, 10])"
   ]
  },
  {
   "cell_type": "code",
   "execution_count": 141,
   "metadata": {},
   "outputs": [
    {
     "name": "stdout",
     "output_type": "stream",
     "text": [
      "in:   [-23  49]\n",
      "out:  [-23  49]\n",
      "in:   [31 24 -1]\n",
      "out:  [-1 24 31]\n",
      "in:   [-24  28 -39  39]\n",
      "out:  [-39 -24  28  39]\n",
      "in:   [ 44 -45 -41 -40   2]\n",
      "out:  [-45 -41 -40   2  44]\n",
      "in:   [-15 -34  22 -37  48  -3]\n",
      "out:  [-37 -34 -15  -3  22  48]\n",
      "in:   [  1  42 -43 -15 -12 -23 -14]\n",
      "out:  [-43 -23 -15 -14 -12   1  42]\n"
     ]
    }
   ],
   "source": [
    "for i in range (2, 8) :\n",
    "    randarr = np.random.randint(-50, 50, i)\n",
    "    print(\"in:  \", randarr)\n",
    "    print(\"out: \", selection_sort(randarr))"
   ]
  },
  {
   "cell_type": "code",
   "execution_count": 158,
   "metadata": {},
   "outputs": [],
   "source": [
    "def bubble(a) :\n",
    "    N = len(a)\n",
    "    i = 0\n",
    "    # a[i] == max(a[0..i])\n",
    "    while i < N - 1:\n",
    "        if a[i] > a[i + 1] :\n",
    "            a[i], a[i+1] = a[i+1], a[i]\n",
    "        i = i + 1\n",
    "    # post-loop: i == N - 1\n",
    "    return a \n",
    "\n",
    "\n",
    "def bubble_sort(a) :\n",
    "    N = len(a)\n",
    "    j = N\n",
    "    swapped = False\n",
    "    while True : # emulate do while loop\n",
    "        # sorted a[j .. N - 1] and a[0..j-1] <= a[j .. N - 1] \n",
    "        while j > 0 :\n",
    "            i = 0\n",
    "            while i < j - 1 :\n",
    "                if a[i] > a[i + 1] :\n",
    "                    a[i], a[i + 1] = a[i + 1], a[i]\n",
    "                i = i + 1\n",
    "            j = j - 1\n",
    "        if not swapped : break # if no swaps performed at all, array already\n",
    "                               # sorted \n",
    "    return a\n"
   ]
  },
  {
   "cell_type": "code",
   "execution_count": 159,
   "metadata": {},
   "outputs": [
    {
     "data": {
      "text/plain": [
       "[-5, 1, 2, 3, 4]"
      ]
     },
     "execution_count": 159,
     "metadata": {},
     "output_type": "execute_result"
    }
   ],
   "source": [
    "bubble_sort([1, 2, 3, 4, -5])"
   ]
  },
  {
   "cell_type": "code",
   "execution_count": 165,
   "metadata": {},
   "outputs": [
    {
     "name": "stdout",
     "output_type": "stream",
     "text": [
      "in:   [-40  36]\n",
      "out:  [-40  36]\n",
      "in:   [-34  15  19]\n",
      "out:  [-34  15  19]\n",
      "in:   [-47  46  -1  -9]\n",
      "out:  [-47  -9  -1  46]\n",
      "in:   [ 38  39  21 -35 -29]\n",
      "out:  [-35 -29  21  38  39]\n",
      "in:   [ 13 -49 -43  41  26  17]\n",
      "out:  [-49 -43  13  17  26  41]\n",
      "in:   [ -6  -2  35  42  12  44 -33]\n",
      "out:  [-33  -6  -2  12  35  42  44]\n"
     ]
    }
   ],
   "source": [
    "for i in range (2, 8) :\n",
    "    randarr = np.random.randint(-50, 50, i)\n",
    "    print(\"in:  \", randarr)\n",
    "    print(\"out: \", bubble_sort(randarr)"
   ]
  },
  {
   "cell_type": "code",
   "execution_count": 35,
   "metadata": {},
   "outputs": [],
   "source": [
    "def qSort(a, l, r) :\n",
    "    if l == r + 1 : return a\n",
    "    p = a[0] # choose simply first element as pivot\n",
    "    i = l\n",
    "    j = r\n",
    "    while True : # do while loop in python\n",
    "        while a[i] < p : i = i + 1\n",
    "        while a[j] > p : j = j - 1\n",
    "        if i <= j :\n",
    "            a[i], a[j] = a[j], a[i]\n",
    "            i = i + 1\n",
    "            j = j - 1\n",
    "        if i > j : break\n",
    "    qSort(a, l, j)\n",
    "    qSort(a, r, i)\n",
    "    return a\n",
    "        \n",
    "    \n",
    " "
   ]
  },
  {
   "cell_type": "code",
   "execution_count": 34,
   "metadata": {},
   "outputs": [
    {
     "ename": "RecursionError",
     "evalue": "maximum recursion depth exceeded",
     "output_type": "error",
     "traceback": [
      "\u001b[0;31m---------------------------------------------------------------------------\u001b[0m",
      "\u001b[0;31mRecursionError\u001b[0m                            Traceback (most recent call last)",
      "Cell \u001b[0;32mIn[34], line 2\u001b[0m\n\u001b[1;32m      1\u001b[0m a \u001b[38;5;241m=\u001b[39m [\u001b[38;5;241m3\u001b[39m,\u001b[38;5;241m6\u001b[39m, \u001b[38;5;241m8\u001b[39m, \u001b[38;5;241m1\u001b[39m, \u001b[38;5;241m0\u001b[39m, \u001b[38;5;241m7\u001b[39m, \u001b[38;5;241m2\u001b[39m, \u001b[38;5;241m4\u001b[39m, \u001b[38;5;241m5\u001b[39m, \u001b[38;5;241m9\u001b[39m]\n\u001b[0;32m----> 2\u001b[0m \u001b[43mqSort\u001b[49m\u001b[43m(\u001b[49m\u001b[43ma\u001b[49m\u001b[43m,\u001b[49m\u001b[43m \u001b[49m\u001b[38;5;241;43m0\u001b[39;49m\u001b[43m,\u001b[49m\u001b[43m \u001b[49m\u001b[38;5;28;43mlen\u001b[39;49m\u001b[43m(\u001b[49m\u001b[43ma\u001b[49m\u001b[43m)\u001b[49m\u001b[43m \u001b[49m\u001b[38;5;241;43m-\u001b[39;49m\u001b[43m \u001b[49m\u001b[38;5;241;43m1\u001b[39;49m\u001b[43m)\u001b[49m\n",
      "Cell \u001b[0;32mIn[33], line 14\u001b[0m, in \u001b[0;36mqSort\u001b[0;34m(a, l, r)\u001b[0m\n\u001b[1;32m     12\u001b[0m         j \u001b[38;5;241m=\u001b[39m j \u001b[38;5;241m-\u001b[39m \u001b[38;5;241m1\u001b[39m\n\u001b[1;32m     13\u001b[0m     \u001b[38;5;28;01mif\u001b[39;00m i \u001b[38;5;241m>\u001b[39m j : \u001b[38;5;28;01mbreak\u001b[39;00m\n\u001b[0;32m---> 14\u001b[0m \u001b[43mqSort\u001b[49m\u001b[43m(\u001b[49m\u001b[43ma\u001b[49m\u001b[43m,\u001b[49m\u001b[43m \u001b[49m\u001b[43ml\u001b[49m\u001b[43m,\u001b[49m\u001b[43m \u001b[49m\u001b[43mj\u001b[49m\u001b[43m)\u001b[49m\n\u001b[1;32m     15\u001b[0m qSort(a, r, i)\n\u001b[1;32m     16\u001b[0m \u001b[38;5;28;01mreturn\u001b[39;00m a\n",
      "Cell \u001b[0;32mIn[33], line 14\u001b[0m, in \u001b[0;36mqSort\u001b[0;34m(a, l, r)\u001b[0m\n\u001b[1;32m     12\u001b[0m         j \u001b[38;5;241m=\u001b[39m j \u001b[38;5;241m-\u001b[39m \u001b[38;5;241m1\u001b[39m\n\u001b[1;32m     13\u001b[0m     \u001b[38;5;28;01mif\u001b[39;00m i \u001b[38;5;241m>\u001b[39m j : \u001b[38;5;28;01mbreak\u001b[39;00m\n\u001b[0;32m---> 14\u001b[0m \u001b[43mqSort\u001b[49m\u001b[43m(\u001b[49m\u001b[43ma\u001b[49m\u001b[43m,\u001b[49m\u001b[43m \u001b[49m\u001b[43ml\u001b[49m\u001b[43m,\u001b[49m\u001b[43m \u001b[49m\u001b[43mj\u001b[49m\u001b[43m)\u001b[49m\n\u001b[1;32m     15\u001b[0m qSort(a, r, i)\n\u001b[1;32m     16\u001b[0m \u001b[38;5;28;01mreturn\u001b[39;00m a\n",
      "    \u001b[0;31m[... skipping similar frames: qSort at line 14 (1 times)]\u001b[0m\n",
      "Cell \u001b[0;32mIn[33], line 15\u001b[0m, in \u001b[0;36mqSort\u001b[0;34m(a, l, r)\u001b[0m\n\u001b[1;32m     13\u001b[0m     \u001b[38;5;28;01mif\u001b[39;00m i \u001b[38;5;241m>\u001b[39m j : \u001b[38;5;28;01mbreak\u001b[39;00m\n\u001b[1;32m     14\u001b[0m qSort(a, l, j)\n\u001b[0;32m---> 15\u001b[0m \u001b[43mqSort\u001b[49m\u001b[43m(\u001b[49m\u001b[43ma\u001b[49m\u001b[43m,\u001b[49m\u001b[43m \u001b[49m\u001b[43mr\u001b[49m\u001b[43m,\u001b[49m\u001b[43m \u001b[49m\u001b[43mi\u001b[49m\u001b[43m)\u001b[49m\n\u001b[1;32m     16\u001b[0m \u001b[38;5;28;01mreturn\u001b[39;00m a\n",
      "Cell \u001b[0;32mIn[33], line 15\u001b[0m, in \u001b[0;36mqSort\u001b[0;34m(a, l, r)\u001b[0m\n\u001b[1;32m     13\u001b[0m     \u001b[38;5;28;01mif\u001b[39;00m i \u001b[38;5;241m>\u001b[39m j : \u001b[38;5;28;01mbreak\u001b[39;00m\n\u001b[1;32m     14\u001b[0m qSort(a, l, j)\n\u001b[0;32m---> 15\u001b[0m \u001b[43mqSort\u001b[49m\u001b[43m(\u001b[49m\u001b[43ma\u001b[49m\u001b[43m,\u001b[49m\u001b[43m \u001b[49m\u001b[43mr\u001b[49m\u001b[43m,\u001b[49m\u001b[43m \u001b[49m\u001b[43mi\u001b[49m\u001b[43m)\u001b[49m\n\u001b[1;32m     16\u001b[0m \u001b[38;5;28;01mreturn\u001b[39;00m a\n",
      "    \u001b[0;31m[... skipping similar frames: qSort at line 15 (2970 times)]\u001b[0m\n",
      "Cell \u001b[0;32mIn[33], line 15\u001b[0m, in \u001b[0;36mqSort\u001b[0;34m(a, l, r)\u001b[0m\n\u001b[1;32m     13\u001b[0m     \u001b[38;5;28;01mif\u001b[39;00m i \u001b[38;5;241m>\u001b[39m j : \u001b[38;5;28;01mbreak\u001b[39;00m\n\u001b[1;32m     14\u001b[0m qSort(a, l, j)\n\u001b[0;32m---> 15\u001b[0m \u001b[43mqSort\u001b[49m\u001b[43m(\u001b[49m\u001b[43ma\u001b[49m\u001b[43m,\u001b[49m\u001b[43m \u001b[49m\u001b[43mr\u001b[49m\u001b[43m,\u001b[49m\u001b[43m \u001b[49m\u001b[43mi\u001b[49m\u001b[43m)\u001b[49m\n\u001b[1;32m     16\u001b[0m \u001b[38;5;28;01mreturn\u001b[39;00m a\n",
      "Cell \u001b[0;32mIn[33], line 14\u001b[0m, in \u001b[0;36mqSort\u001b[0;34m(a, l, r)\u001b[0m\n\u001b[1;32m     12\u001b[0m         j \u001b[38;5;241m=\u001b[39m j \u001b[38;5;241m-\u001b[39m \u001b[38;5;241m1\u001b[39m\n\u001b[1;32m     13\u001b[0m     \u001b[38;5;28;01mif\u001b[39;00m i \u001b[38;5;241m>\u001b[39m j : \u001b[38;5;28;01mbreak\u001b[39;00m\n\u001b[0;32m---> 14\u001b[0m \u001b[43mqSort\u001b[49m\u001b[43m(\u001b[49m\u001b[43ma\u001b[49m\u001b[43m,\u001b[49m\u001b[43m \u001b[49m\u001b[43ml\u001b[49m\u001b[43m,\u001b[49m\u001b[43m \u001b[49m\u001b[43mj\u001b[49m\u001b[43m)\u001b[49m\n\u001b[1;32m     15\u001b[0m qSort(a, r, i)\n\u001b[1;32m     16\u001b[0m \u001b[38;5;28;01mreturn\u001b[39;00m a\n",
      "\u001b[0;31mRecursionError\u001b[0m: maximum recursion depth exceeded"
     ]
    }
   ],
   "source": [
    "a = [3,6, 8, 1, 0, 7, 2, 4, 5, 9]\n",
    "qSort(a, 0, len(a) - 1)"
   ]
  },
  {
   "cell_type": "code",
   "execution_count": null,
   "metadata": {},
   "outputs": [],
   "source": []
  }
 ],
 "metadata": {
  "kernelspec": {
   "display_name": "Python 3",
   "language": "python",
   "name": "python3"
  },
  "language_info": {
   "codemirror_mode": {
    "name": "ipython",
    "version": 3
   },
   "file_extension": ".py",
   "mimetype": "text/x-python",
   "name": "python",
   "nbconvert_exporter": "python",
   "pygments_lexer": "ipython3",
   "version": "3.12.3"
  }
 },
 "nbformat": 4,
 "nbformat_minor": 2
}
