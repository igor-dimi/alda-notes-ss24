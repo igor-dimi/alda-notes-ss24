{
 "cells": [
  {
   "cell_type": "code",
   "execution_count": 3,
   "metadata": {},
   "outputs": [],
   "source": [
    "def insertion_sort(a) :\n",
    "    n = len(a)\n",
    "    # i = 1\n",
    "    # sorted a[0..i-1]\n",
    "    for i in range(1, n) :\n",
    "        # insert i in the right position\n",
    "        j = i - 1\n",
    "        el = a[i]\n",
    "        while el < a[j] and j > 0 :\n",
    "            a[j + 1] = a[j]\n",
    "            j = j - 1\n",
    "        # el >= a[j] or j == 0\n",
    "        if el < a[j] : # j == 0\n",
    "            a[1] = a[0]\n",
    "            a[0] = el\n",
    "        else : # el >= a[j] \n",
    "            a[j + 1] = el\n",
    "    return a"
   ]
  },
  {
   "cell_type": "code",
   "execution_count": null,
   "metadata": {},
   "outputs": [],
   "source": []
  },
  {
   "cell_type": "code",
   "execution_count": null,
   "metadata": {},
   "outputs": [],
   "source": []
  },
  {
   "cell_type": "code",
   "execution_count": 4,
   "metadata": {},
   "outputs": [
    {
     "name": "stdout",
     "output_type": "stream",
     "text": [
      "[-3, 0, 1, 3, 5, 7, 9, 10]\n"
     ]
    }
   ],
   "source": [
    "a = [1, 10, 3, 5, -3, 7, 9, 0]\n",
    "print(insertion_sort(a))"
   ]
  },
  {
   "cell_type": "code",
   "execution_count": 5,
   "metadata": {},
   "outputs": [],
   "source": [
    "import numpy as np\n",
    "randarr = np.random.randint(1, 26, 10)"
   ]
  },
  {
   "cell_type": "code",
   "execution_count": 6,
   "metadata": {},
   "outputs": [
    {
     "data": {
      "text/plain": [
       "array([11, 25,  4, 21, 10,  7, 20, 19, 11,  6])"
      ]
     },
     "execution_count": 6,
     "metadata": {},
     "output_type": "execute_result"
    }
   ],
   "source": [
    "randarr"
   ]
  },
  {
   "cell_type": "code",
   "execution_count": 13,
   "metadata": {},
   "outputs": [
    {
     "name": "stdout",
     "output_type": "stream",
     "text": [
      "in:   [6 4]\n",
      "out:  [4 6]\n",
      "\n",
      "in:   [11 19 16]\n",
      "out:  [11 16 19]\n",
      "\n",
      "in:   [ 8  2 10  5]\n",
      "out:  [ 2  5  8 10]\n",
      "\n",
      "in:   [ 2 19 13  2 19]\n",
      "out:  [ 2  2 13 19 19]\n",
      "\n",
      "in:   [18  1 16 14  3 16]\n",
      "out:  [ 1  3 14 16 16 18]\n",
      "\n",
      "in:   [ 5 16  3  4 12  3  5]\n",
      "out:  [ 3  3  4  5  5 12 16]\n",
      "\n"
     ]
    }
   ],
   "source": [
    "for i in range (2, 8) :\n",
    "    randarr = np.random.randint(1, 20, i)\n",
    "    print(\"in:  \", randarr)\n",
    "    print(\"out: \", insertion_sort(randarr))\n",
    "    print()"
   ]
  },
  {
   "cell_type": "code",
   "execution_count": 166,
   "metadata": {},
   "outputs": [
    {
     "data": {
      "text/plain": [
       "[-100, 1, 2, 3, 10]"
      ]
     },
     "execution_count": 166,
     "metadata": {},
     "output_type": "execute_result"
    }
   ],
   "source": [
    "insertion_sort([2, 1, 3, 10, -100])"
   ]
  },
  {
   "cell_type": "code",
   "execution_count": null,
   "metadata": {},
   "outputs": [],
   "source": []
  }
 ],
 "metadata": {
  "kernelspec": {
   "display_name": "Python 3",
   "language": "python",
   "name": "python3"
  },
  "language_info": {
   "codemirror_mode": {
    "name": "ipython",
    "version": 3
   },
   "file_extension": ".py",
   "mimetype": "text/x-python",
   "name": "python",
   "nbconvert_exporter": "python",
   "pygments_lexer": "ipython3",
   "version": "3.10.12"
  }
 },
 "nbformat": 4,
 "nbformat_minor": 2
}
