{
 "cells": [
  {
   "cell_type": "code",
   "execution_count": 159,
   "metadata": {},
   "outputs": [],
   "source": [
    "def insertion_sort(a) :\n",
    "    n = len(a)\n",
    "    # i = 1\n",
    "    # sorted a[0..i-1]\n",
    "    for i in range(1, n) :\n",
    "        # insert i in the right position\n",
    "        j = i - 1\n",
    "        el = a[i]\n",
    "        while el < a[j] and j > 0 :\n",
    "            a[j + 1] = a[j]\n",
    "            j = j - 1\n",
    "        # el >= a[j] or j == 0\n",
    "        if el < a[j] : # j == 0\n",
    "            a[1] = a[0]\n",
    "            a[0] = el\n",
    "        else : # el >= a[j] \n",
    "            a[j + 1] = el\n",
    "    return a"
   ]
  },
  {
   "cell_type": "code",
   "execution_count": null,
   "metadata": {},
   "outputs": [],
   "source": []
  },
  {
   "cell_type": "code",
   "execution_count": null,
   "metadata": {},
   "outputs": [],
   "source": []
  },
  {
   "cell_type": "code",
   "execution_count": 125,
   "metadata": {},
   "outputs": [
    {
     "name": "stdout",
     "output_type": "stream",
     "text": [
      "[-3, 0, 1, 3, 5, 7, 9, 10]\n"
     ]
    }
   ],
   "source": [
    "a = [1, 10, 3, 5, -3, 7, 9, 0]\n",
    "print(insertion_sort(a))"
   ]
  },
  {
   "cell_type": "code",
   "execution_count": 160,
   "metadata": {},
   "outputs": [],
   "source": [
    "import numpy as np\n",
    "randarr = np.random.randint(1, 26, 10)"
   ]
  },
  {
   "cell_type": "code",
   "execution_count": 161,
   "metadata": {},
   "outputs": [
    {
     "data": {
      "text/plain": [
       "array([ 8, 22, 13,  4, 23, 11,  4,  9, 12,  8])"
      ]
     },
     "execution_count": 161,
     "metadata": {},
     "output_type": "execute_result"
    }
   ],
   "source": [
    "randarr"
   ]
  },
  {
   "cell_type": "code",
   "execution_count": 164,
   "metadata": {},
   "outputs": [
    {
     "name": "stdout",
     "output_type": "stream",
     "text": [
      "[91 36 41 58]\n",
      "[36 41 58 91]\n"
     ]
    }
   ],
   "source": [
    "\n",
    "randarr = np.random.randint(1, 100, 4)\n",
    "print(randarr)\n",
    "print(insertion_sort(randarr))"
   ]
  },
  {
   "cell_type": "code",
   "execution_count": 166,
   "metadata": {},
   "outputs": [
    {
     "data": {
      "text/plain": [
       "[-100, 1, 2, 3, 10]"
      ]
     },
     "execution_count": 166,
     "metadata": {},
     "output_type": "execute_result"
    }
   ],
   "source": [
    "insertion_sort([2, 1, 3, 10, -100])"
   ]
  },
  {
   "cell_type": "code",
   "execution_count": null,
   "metadata": {},
   "outputs": [],
   "source": []
  }
 ],
 "metadata": {
  "kernelspec": {
   "display_name": "Python 3",
   "language": "python",
   "name": "python3"
  },
  "language_info": {
   "codemirror_mode": {
    "name": "ipython",
    "version": 3
   },
   "file_extension": ".py",
   "mimetype": "text/x-python",
   "name": "python",
   "nbconvert_exporter": "python",
   "pygments_lexer": "ipython3",
   "version": "3.12.0"
  }
 },
 "nbformat": 4,
 "nbformat_minor": 2
}
