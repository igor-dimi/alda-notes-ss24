{
 "cells": [
  {
   "cell_type": "code",
   "execution_count": 39,
   "metadata": {},
   "outputs": [],
   "source": [
    "def insertion_sort(a) :\n",
    "    n = len(a)\n",
    "    # i = 1\n",
    "    # sorted a[0..i-1]\n",
    "    for i in range(1, n) :\n",
    "        # insert i in the right position\n",
    "        j = i - 1\n",
    "        el = a[i]\n",
    "        while el < a[j] and j > 0 :\n",
    "            a[j + 1] = a[j]\n",
    "            j = j - 1\n",
    "        # el >= a[j] or j == 0\n",
    "        if el < a[j] : # j == 0\n",
    "            a[1] = a[0]\n",
    "            a[0] = el\n",
    "        else : # el >= a[j] \n",
    "            a[j + 1] = el\n",
    "        print(\"after insertion \", i, \": \", a)\n",
    "    return a"
   ]
  },
  {
   "cell_type": "code",
   "execution_count": 45,
   "metadata": {},
   "outputs": [
    {
     "name": "stdout",
     "output_type": "stream",
     "text": [
      "input:                [-2, 3, 10, -5, 13, 14, 20, -99]\n",
      "after insertion  1 :  [-2, 3, 10, -5, 13, 14, 20, -99]\n",
      "after insertion  2 :  [-2, 3, 10, -5, 13, 14, 20, -99]\n",
      "after insertion  3 :  [-5, -2, 3, 10, 13, 14, 20, -99]\n",
      "after insertion  4 :  [-5, -2, 3, 10, 13, 14, 20, -99]\n",
      "after insertion  5 :  [-5, -2, 3, 10, 13, 14, 20, -99]\n",
      "after insertion  6 :  [-5, -2, 3, 10, 13, 14, 20, -99]\n",
      "after insertion  7 :  [-99, -5, -2, 3, 10, 13, 14, 20]\n"
     ]
    },
    {
     "data": {
      "text/plain": [
       "[-99, -5, -2, 3, 10, 13, 14, 20]"
      ]
     },
     "execution_count": 45,
     "metadata": {},
     "output_type": "execute_result"
    }
   ],
   "source": [
    "s = [-2, 3, 10, -5, 13, 14, 20, -99]\n",
    "print(\"input:               \", s)\n",
    "insertion_sort(s)"
   ]
  },
  {
   "cell_type": "code",
   "execution_count": null,
   "metadata": {},
   "outputs": [],
   "source": []
  },
  {
   "cell_type": "code",
   "execution_count": 22,
   "metadata": {},
   "outputs": [
    {
     "name": "stdout",
     "output_type": "stream",
     "text": [
      "[1, 10, 3, 5, -3, 7, 9, 0]\n",
      "[1, 10, 3, 5, -3, 7, 9, 0]\n",
      "[1, 3, 10, 5, -3, 7, 9, 0]\n",
      "[1, 3, 5, 10, -3, 7, 9, 0]\n",
      "[-3, 1, 3, 5, 10, 7, 9, 0]\n",
      "[-3, 1, 3, 5, 7, 10, 9, 0]\n",
      "[-3, 1, 3, 5, 7, 9, 10, 0]\n"
     ]
    },
    {
     "data": {
      "text/plain": [
       "[-3, 0, 1, 3, 5, 7, 9, 10]"
      ]
     },
     "execution_count": 22,
     "metadata": {},
     "output_type": "execute_result"
    }
   ],
   "source": [
    "s = [1, 10, 3, 5, -3, 7, 9, 0]\n",
    "insertion_sort(s)"
   ]
  },
  {
   "cell_type": "code",
   "execution_count": 3,
   "metadata": {},
   "outputs": [],
   "source": [
    "import numpy as np\n",
    "randarr = np.random.randint(1, 26, 10)"
   ]
  },
  {
   "cell_type": "code",
   "execution_count": 4,
   "metadata": {},
   "outputs": [
    {
     "data": {
      "text/plain": [
       "array([21, 24, 23, 18,  1, 18, 17,  2, 10,  6])"
      ]
     },
     "execution_count": 4,
     "metadata": {},
     "output_type": "execute_result"
    }
   ],
   "source": [
    "randarr"
   ]
  },
  {
   "cell_type": "code",
   "execution_count": 24,
   "metadata": {},
   "outputs": [
    {
     "name": "stdout",
     "output_type": "stream",
     "text": [
      "in:   [17 13]\n",
      "out:  [13 17]\n",
      "in:   [19 16  6]\n",
      "out:  [ 6 16 19]\n",
      "in:   [ 6  7 19  2]\n",
      "out:  [ 2  6  7 19]\n",
      "in:   [ 1  7 17 12 12]\n",
      "out:  [ 1  7 12 12 17]\n",
      "in:   [14 19 19  2  5 19]\n",
      "out:  [ 2  5 14 19 19 19]\n",
      "in:   [ 1  8 13  5 11 14 14]\n",
      "out:  [ 1  5  8 11 13 14 14]\n"
     ]
    }
   ],
   "source": [
    "for i in range (2, 8) :\n",
    "    randarr = np.random.randint(1, 20, i)\n",
    "    print(\"in:  \", randarr)\n",
    "    print(\"out: \", insertion_sort(randarr))"
   ]
  },
  {
   "cell_type": "code",
   "execution_count": 28,
   "metadata": {},
   "outputs": [
    {
     "name": "stdout",
     "output_type": "stream",
     "text": [
      "[1, 2, 3, 10, -100]\n",
      "[1, 2, 3, 10, -100]\n",
      "[1, 2, 3, 10, -100]\n",
      "[-100, 1, 2, 3, 10]\n"
     ]
    },
    {
     "data": {
      "text/plain": [
       "[-100, 1, 2, 3, 10]"
      ]
     },
     "execution_count": 28,
     "metadata": {},
     "output_type": "execute_result"
    }
   ],
   "source": [
    "insertion_sort([2, 1, 3, 10, -100])"
   ]
  },
  {
   "cell_type": "code",
   "execution_count": 90,
   "metadata": {},
   "outputs": [],
   "source": [
    "def merge(a, b) :\n",
    "    c = []\n",
    "    n1 = len(a)\n",
    "    n2 = len(b)\n",
    "    k1 = 0\n",
    "    k2 = 0\n",
    "    i = 0\n",
    "    # invariant: merged a[0..k1 - 1] with b[0..k2 - 2]\n",
    "    while k1 < n1 and k2 < n2 :\n",
    "        if a[k1] <= b[k2] :\n",
    "            c.append(a[k1])\n",
    "            k1 = k1 + 1\n",
    "        else :\n",
    "            c.append(b[k2])\n",
    "            k2 = k2 + 1\n",
    "    # k1 >= n1 or k2 >= n2\n",
    "    if k1 == n1 :\n",
    "        while k2 < n2 :\n",
    "            c.append(b[k2])\n",
    "            k2 = k2 + 1\n",
    "    if k2 == n2 :\n",
    "        while k1 < n1 :\n",
    "            c.append(a[k1])\n",
    "            k1 = k1 + 1\n",
    "    return c\n",
    "        \n",
    "def merge_sort(a) :\n",
    "    if len(a) == 1 : return a[0:1]\n",
    "    n = len(a)\n",
    "    a1 = a[0 : n // 2]\n",
    "    a2 = a[n // 2 : ]\n",
    "    return  merge(merge_sort(a1), merge_sort(a2))\n"
   ]
  },
  {
   "cell_type": "code",
   "execution_count": 91,
   "metadata": {},
   "outputs": [
    {
     "data": {
      "text/plain": [
       "[-11, -10, 1, 2, 3, 5, 7, 101, 1000, 10003]"
      ]
     },
     "execution_count": 91,
     "metadata": {},
     "output_type": "execute_result"
    }
   ],
   "source": [
    "merge([1, 2, 5, 101, 1000, 10003], [-11, -10, 3, 7])"
   ]
  },
  {
   "cell_type": "code",
   "execution_count": 93,
   "metadata": {},
   "outputs": [
    {
     "data": {
      "text/plain": [
       "[1, 3, 20, 30, 100]"
      ]
     },
     "execution_count": 93,
     "metadata": {},
     "output_type": "execute_result"
    }
   ],
   "source": [
    "merge_sort([3, 1, 20, 30, 100])"
   ]
  },
  {
   "cell_type": "code",
   "execution_count": 89,
   "metadata": {},
   "outputs": [
    {
     "name": "stdout",
     "output_type": "stream",
     "text": [
      "[0, 1, 4] [30, 7, 5]\n"
     ]
    }
   ],
   "source": [
    "s = [0, 1, 4, 30, 7, 5]\n",
    "a1 = s[0 : len(s) // 2]\n",
    "a2 = s[len(s) // 2 :]\n",
    "print(a1, a2)"
   ]
  },
  {
   "cell_type": "code",
   "execution_count": 51,
   "metadata": {},
   "outputs": [
    {
     "data": {
      "text/plain": [
       "[3, 4]"
      ]
     },
     "execution_count": 51,
     "metadata": {},
     "output_type": "execute_result"
    }
   ],
   "source": [
    "[1, 2, 3, 4][3//2 + 1 :]"
   ]
  },
  {
   "cell_type": "code",
   "execution_count": 54,
   "metadata": {},
   "outputs": [
    {
     "ename": "NameError",
     "evalue": "name 'b' is not defined",
     "output_type": "error",
     "traceback": [
      "\u001b[0;31m---------------------------------------------------------------------------\u001b[0m",
      "\u001b[0;31mNameError\u001b[0m                                 Traceback (most recent call last)",
      "Cell \u001b[0;32mIn[54], line 1\u001b[0m\n\u001b[0;32m----> 1\u001b[0m \u001b[43mb\u001b[49m[\u001b[38;5;241m20\u001b[39m]\n",
      "\u001b[0;31mNameError\u001b[0m: name 'b' is not defined"
     ]
    }
   ],
   "source": []
  },
  {
   "cell_type": "code",
   "execution_count": 94,
   "metadata": {},
   "outputs": [
    {
     "name": "stdout",
     "output_type": "stream",
     "text": [
      "in:   [13  2]\n",
      "out:  [2, 13]\n",
      "in:   [17 19  2]\n",
      "out:  [2, 17, 19]\n",
      "in:   [ 6 11  5  6]\n",
      "out:  [5, 6, 6, 11]\n",
      "in:   [11  7 18  8 11]\n",
      "out:  [7, 8, 11, 11, 18]\n",
      "in:   [19 14  3  8 13  9]\n",
      "out:  [3, 8, 9, 13, 14, 19]\n",
      "in:   [ 9 16 10  2 17 15  4]\n",
      "out:  [2, 4, 9, 10, 15, 16, 17]\n"
     ]
    }
   ],
   "source": [
    "\n",
    "for i in range (2, 8) :\n",
    "    randarr = np.random.randint(1, 20, i)\n",
    "    print(\"in:  \", randarr)\n",
    "    print(\"out: \", merge_sort(randarr))"
   ]
  },
  {
   "cell_type": "code",
   "execution_count": 95,
   "metadata": {},
   "outputs": [],
   "source": [
    "def quicksort(s) :\n",
    "    if len(s) <= 1 : return s\n",
    "    p = s[len(s) // 2]\n",
    "    a = b = c = []\n",
    "    for i in range(0, len(s)) :\n",
    "        if s[i] < p : a.append(s[i])\n",
    "    for i in range(0, len(s)) :\n",
    "        if s[i] == p : b.append(s[i])\n",
    "    for i in range(0, len(s)) :\n",
    "        if s[i] > p : c.append(s[i])\n",
    "    return a + b + c\n"
   ]
  },
  {
   "cell_type": "code",
   "execution_count": 97,
   "metadata": {},
   "outputs": [
    {
     "ename": "RecursionError",
     "evalue": "maximum recursion depth exceeded",
     "output_type": "error",
     "traceback": [
      "\u001b[0;31m---------------------------------------------------------------------------\u001b[0m",
      "\u001b[0;31mRecursionError\u001b[0m                            Traceback (most recent call last)",
      "Cell \u001b[0;32mIn[97], line 1\u001b[0m\n\u001b[0;32m----> 1\u001b[0m \u001b[43mquicksort\u001b[49m\u001b[43m(\u001b[49m\u001b[43m[\u001b[49m\u001b[38;5;241;43m2\u001b[39;49m\u001b[43m,\u001b[49m\u001b[43m \u001b[49m\u001b[38;5;241;43m1\u001b[39;49m\u001b[43m]\u001b[49m\u001b[43m)\u001b[49m\n",
      "Cell \u001b[0;32mIn[95], line 11\u001b[0m, in \u001b[0;36mquicksort\u001b[0;34m(s)\u001b[0m\n\u001b[1;32m      9\u001b[0m \u001b[38;5;28;01mfor\u001b[39;00m i \u001b[38;5;129;01min\u001b[39;00m \u001b[38;5;28mrange\u001b[39m(\u001b[38;5;241m0\u001b[39m, \u001b[38;5;28mlen\u001b[39m(s)) :\n\u001b[1;32m     10\u001b[0m     \u001b[38;5;28;01mif\u001b[39;00m s[i] \u001b[38;5;241m>\u001b[39m p : c\u001b[38;5;241m.\u001b[39mappend(s[i])\n\u001b[0;32m---> 11\u001b[0m \u001b[38;5;28;01mreturn\u001b[39;00m \u001b[43mquicksort\u001b[49m\u001b[43m(\u001b[49m\u001b[43ma\u001b[49m\u001b[43m)\u001b[49m \u001b[38;5;241m+\u001b[39m b \u001b[38;5;241m+\u001b[39m quicksort(c)\n",
      "Cell \u001b[0;32mIn[95], line 11\u001b[0m, in \u001b[0;36mquicksort\u001b[0;34m(s)\u001b[0m\n\u001b[1;32m      9\u001b[0m \u001b[38;5;28;01mfor\u001b[39;00m i \u001b[38;5;129;01min\u001b[39;00m \u001b[38;5;28mrange\u001b[39m(\u001b[38;5;241m0\u001b[39m, \u001b[38;5;28mlen\u001b[39m(s)) :\n\u001b[1;32m     10\u001b[0m     \u001b[38;5;28;01mif\u001b[39;00m s[i] \u001b[38;5;241m>\u001b[39m p : c\u001b[38;5;241m.\u001b[39mappend(s[i])\n\u001b[0;32m---> 11\u001b[0m \u001b[38;5;28;01mreturn\u001b[39;00m \u001b[43mquicksort\u001b[49m\u001b[43m(\u001b[49m\u001b[43ma\u001b[49m\u001b[43m)\u001b[49m \u001b[38;5;241m+\u001b[39m b \u001b[38;5;241m+\u001b[39m quicksort(c)\n",
      "    \u001b[0;31m[... skipping similar frames: quicksort at line 11 (2974 times)]\u001b[0m\n",
      "Cell \u001b[0;32mIn[95], line 11\u001b[0m, in \u001b[0;36mquicksort\u001b[0;34m(s)\u001b[0m\n\u001b[1;32m      9\u001b[0m \u001b[38;5;28;01mfor\u001b[39;00m i \u001b[38;5;129;01min\u001b[39;00m \u001b[38;5;28mrange\u001b[39m(\u001b[38;5;241m0\u001b[39m, \u001b[38;5;28mlen\u001b[39m(s)) :\n\u001b[1;32m     10\u001b[0m     \u001b[38;5;28;01mif\u001b[39;00m s[i] \u001b[38;5;241m>\u001b[39m p : c\u001b[38;5;241m.\u001b[39mappend(s[i])\n\u001b[0;32m---> 11\u001b[0m \u001b[38;5;28;01mreturn\u001b[39;00m \u001b[43mquicksort\u001b[49m\u001b[43m(\u001b[49m\u001b[43ma\u001b[49m\u001b[43m)\u001b[49m \u001b[38;5;241m+\u001b[39m b \u001b[38;5;241m+\u001b[39m quicksort(c)\n",
      "\u001b[0;31mRecursionError\u001b[0m: maximum recursion depth exceeded"
     ]
    }
   ],
   "source": [
    "quicksort([2, 1])"
   ]
  },
  {
   "cell_type": "code",
   "execution_count": null,
   "metadata": {},
   "outputs": [],
   "source": []
  }
 ],
 "metadata": {
  "kernelspec": {
   "display_name": "Python 3",
   "language": "python",
   "name": "python3"
  },
  "language_info": {
   "codemirror_mode": {
    "name": "ipython",
    "version": 3
   },
   "file_extension": ".py",
   "mimetype": "text/x-python",
   "name": "python",
   "nbconvert_exporter": "python",
   "pygments_lexer": "ipython3",
   "version": "3.12.3"
  }
 },
 "nbformat": 4,
 "nbformat_minor": 2
}
